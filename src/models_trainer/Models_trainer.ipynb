{
  "nbformat": 4,
  "nbformat_minor": 0,
  "metadata": {
    "accelerator": "GPU",
    "colab": {
      "name": "Models trainer.ipynb",
      "provenance": [],
      "collapsed_sections": []
    },
    "kernelspec": {
      "display_name": "Python 3",
      "name": "python3"
    },
    "widgets": {
      "application/vnd.jupyter.widget-state+json": {
        "35cd3a5f89f04a64b2478d7dfe27d143": {
          "model_module": "@jupyter-widgets/controls",
          "model_name": "HBoxModel",
          "state": {
            "_dom_classes": [],
            "_model_module": "@jupyter-widgets/controls",
            "_model_module_version": "1.5.0",
            "_model_name": "HBoxModel",
            "_view_count": null,
            "_view_module": "@jupyter-widgets/controls",
            "_view_module_version": "1.5.0",
            "_view_name": "HBoxView",
            "box_style": "",
            "children": [
              "IPY_MODEL_4b68a6ccfec646cf8f5d5f174f1f7e5b",
              "IPY_MODEL_d45fcb897ffd4af19cff3ea0a4ec84e5"
            ],
            "layout": "IPY_MODEL_d57a765e967d4a22ab9f57233cfc6213"
          }
        },
        "4b68a6ccfec646cf8f5d5f174f1f7e5b": {
          "model_module": "@jupyter-widgets/controls",
          "model_name": "FloatProgressModel",
          "state": {
            "_dom_classes": [],
            "_model_module": "@jupyter-widgets/controls",
            "_model_module_version": "1.5.0",
            "_model_name": "FloatProgressModel",
            "_view_count": null,
            "_view_module": "@jupyter-widgets/controls",
            "_view_module_version": "1.5.0",
            "_view_name": "ProgressView",
            "bar_style": "success",
            "description": "Downloading: 100%",
            "description_tooltip": null,
            "layout": "IPY_MODEL_d1dae79baf2e42feba9f6fdaa27b26c3",
            "max": 995526,
            "min": 0,
            "orientation": "horizontal",
            "style": "IPY_MODEL_084100be6e624ed390579451767ae5a8",
            "value": 995526
          }
        },
        "d45fcb897ffd4af19cff3ea0a4ec84e5": {
          "model_module": "@jupyter-widgets/controls",
          "model_name": "HTMLModel",
          "state": {
            "_dom_classes": [],
            "_model_module": "@jupyter-widgets/controls",
            "_model_module_version": "1.5.0",
            "_model_name": "HTMLModel",
            "_view_count": null,
            "_view_module": "@jupyter-widgets/controls",
            "_view_module_version": "1.5.0",
            "_view_name": "HTMLView",
            "description": "",
            "description_tooltip": null,
            "layout": "IPY_MODEL_04f116efe93341ddbbfdb2280f400742",
            "placeholder": "​",
            "style": "IPY_MODEL_ab69e9a91fac4082912829806a2d4b98",
            "value": " 996k/996k [00:00&lt;00:00, 1.97MB/s]"
          }
        },
        "d57a765e967d4a22ab9f57233cfc6213": {
          "model_module": "@jupyter-widgets/base",
          "model_name": "LayoutModel",
          "state": {
            "_model_module": "@jupyter-widgets/base",
            "_model_module_version": "1.2.0",
            "_model_name": "LayoutModel",
            "_view_count": null,
            "_view_module": "@jupyter-widgets/base",
            "_view_module_version": "1.2.0",
            "_view_name": "LayoutView",
            "align_content": null,
            "align_items": null,
            "align_self": null,
            "border": null,
            "bottom": null,
            "display": null,
            "flex": null,
            "flex_flow": null,
            "grid_area": null,
            "grid_auto_columns": null,
            "grid_auto_flow": null,
            "grid_auto_rows": null,
            "grid_column": null,
            "grid_gap": null,
            "grid_row": null,
            "grid_template_areas": null,
            "grid_template_columns": null,
            "grid_template_rows": null,
            "height": null,
            "justify_content": null,
            "justify_items": null,
            "left": null,
            "margin": null,
            "max_height": null,
            "max_width": null,
            "min_height": null,
            "min_width": null,
            "object_fit": null,
            "object_position": null,
            "order": null,
            "overflow": null,
            "overflow_x": null,
            "overflow_y": null,
            "padding": null,
            "right": null,
            "top": null,
            "visibility": null,
            "width": null
          }
        },
        "d1dae79baf2e42feba9f6fdaa27b26c3": {
          "model_module": "@jupyter-widgets/base",
          "model_name": "LayoutModel",
          "state": {
            "_model_module": "@jupyter-widgets/base",
            "_model_module_version": "1.2.0",
            "_model_name": "LayoutModel",
            "_view_count": null,
            "_view_module": "@jupyter-widgets/base",
            "_view_module_version": "1.2.0",
            "_view_name": "LayoutView",
            "align_content": null,
            "align_items": null,
            "align_self": null,
            "border": null,
            "bottom": null,
            "display": null,
            "flex": null,
            "flex_flow": null,
            "grid_area": null,
            "grid_auto_columns": null,
            "grid_auto_flow": null,
            "grid_auto_rows": null,
            "grid_column": null,
            "grid_gap": null,
            "grid_row": null,
            "grid_template_areas": null,
            "grid_template_columns": null,
            "grid_template_rows": null,
            "height": null,
            "justify_content": null,
            "justify_items": null,
            "left": null,
            "margin": null,
            "max_height": null,
            "max_width": null,
            "min_height": null,
            "min_width": null,
            "object_fit": null,
            "object_position": null,
            "order": null,
            "overflow": null,
            "overflow_x": null,
            "overflow_y": null,
            "padding": null,
            "right": null,
            "top": null,
            "visibility": null,
            "width": null
          }
        },
        "084100be6e624ed390579451767ae5a8": {
          "model_module": "@jupyter-widgets/controls",
          "model_name": "ProgressStyleModel",
          "state": {
            "_model_module": "@jupyter-widgets/controls",
            "_model_module_version": "1.5.0",
            "_model_name": "ProgressStyleModel",
            "_view_count": null,
            "_view_module": "@jupyter-widgets/base",
            "_view_module_version": "1.2.0",
            "_view_name": "StyleView",
            "bar_color": null,
            "description_width": "initial"
          }
        },
        "04f116efe93341ddbbfdb2280f400742": {
          "model_module": "@jupyter-widgets/base",
          "model_name": "LayoutModel",
          "state": {
            "_model_module": "@jupyter-widgets/base",
            "_model_module_version": "1.2.0",
            "_model_name": "LayoutModel",
            "_view_count": null,
            "_view_module": "@jupyter-widgets/base",
            "_view_module_version": "1.2.0",
            "_view_name": "LayoutView",
            "align_content": null,
            "align_items": null,
            "align_self": null,
            "border": null,
            "bottom": null,
            "display": null,
            "flex": null,
            "flex_flow": null,
            "grid_area": null,
            "grid_auto_columns": null,
            "grid_auto_flow": null,
            "grid_auto_rows": null,
            "grid_column": null,
            "grid_gap": null,
            "grid_row": null,
            "grid_template_areas": null,
            "grid_template_columns": null,
            "grid_template_rows": null,
            "height": null,
            "justify_content": null,
            "justify_items": null,
            "left": null,
            "margin": null,
            "max_height": null,
            "max_width": null,
            "min_height": null,
            "min_width": null,
            "object_fit": null,
            "object_position": null,
            "order": null,
            "overflow": null,
            "overflow_x": null,
            "overflow_y": null,
            "padding": null,
            "right": null,
            "top": null,
            "visibility": null,
            "width": null
          }
        },
        "ab69e9a91fac4082912829806a2d4b98": {
          "model_module": "@jupyter-widgets/controls",
          "model_name": "DescriptionStyleModel",
          "state": {
            "_model_module": "@jupyter-widgets/controls",
            "_model_module_version": "1.5.0",
            "_model_name": "DescriptionStyleModel",
            "_view_count": null,
            "_view_module": "@jupyter-widgets/base",
            "_view_module_version": "1.2.0",
            "_view_name": "StyleView",
            "description_width": ""
          }
        },
        "d1bfa928d3c24b338d9be8731715e121": {
          "model_module": "@jupyter-widgets/controls",
          "model_name": "HBoxModel",
          "state": {
            "_dom_classes": [],
            "_model_module": "@jupyter-widgets/controls",
            "_model_module_version": "1.5.0",
            "_model_name": "HBoxModel",
            "_view_count": null,
            "_view_module": "@jupyter-widgets/controls",
            "_view_module_version": "1.5.0",
            "_view_name": "HBoxView",
            "box_style": "",
            "children": [
              "IPY_MODEL_d7135171f7334c4faae76fe958ad0d1c",
              "IPY_MODEL_0965b3e5b37a4f99b45a78b6a20b2b87"
            ],
            "layout": "IPY_MODEL_584d66934b144bc4aeb33242e4304690"
          }
        },
        "d7135171f7334c4faae76fe958ad0d1c": {
          "model_module": "@jupyter-widgets/controls",
          "model_name": "FloatProgressModel",
          "state": {
            "_dom_classes": [],
            "_model_module": "@jupyter-widgets/controls",
            "_model_module_version": "1.5.0",
            "_model_name": "FloatProgressModel",
            "_view_count": null,
            "_view_module": "@jupyter-widgets/controls",
            "_view_module_version": "1.5.0",
            "_view_name": "ProgressView",
            "bar_style": "success",
            "description": "Downloading: 100%",
            "description_tooltip": null,
            "layout": "IPY_MODEL_f92e7b31ef3f4ff49ff99c36feacef27",
            "max": 625,
            "min": 0,
            "orientation": "horizontal",
            "style": "IPY_MODEL_5b82b767b00c4b4aa788991de6e14887",
            "value": 625
          }
        },
        "0965b3e5b37a4f99b45a78b6a20b2b87": {
          "model_module": "@jupyter-widgets/controls",
          "model_name": "HTMLModel",
          "state": {
            "_dom_classes": [],
            "_model_module": "@jupyter-widgets/controls",
            "_model_module_version": "1.5.0",
            "_model_name": "HTMLModel",
            "_view_count": null,
            "_view_module": "@jupyter-widgets/controls",
            "_view_module_version": "1.5.0",
            "_view_name": "HTMLView",
            "description": "",
            "description_tooltip": null,
            "layout": "IPY_MODEL_90640add74104d4d884d3d940f835572",
            "placeholder": "​",
            "style": "IPY_MODEL_7d78356714cc4a4aa52a6d7f90712132",
            "value": " 625/625 [00:00&lt;00:00, 1.24kB/s]"
          }
        },
        "584d66934b144bc4aeb33242e4304690": {
          "model_module": "@jupyter-widgets/base",
          "model_name": "LayoutModel",
          "state": {
            "_model_module": "@jupyter-widgets/base",
            "_model_module_version": "1.2.0",
            "_model_name": "LayoutModel",
            "_view_count": null,
            "_view_module": "@jupyter-widgets/base",
            "_view_module_version": "1.2.0",
            "_view_name": "LayoutView",
            "align_content": null,
            "align_items": null,
            "align_self": null,
            "border": null,
            "bottom": null,
            "display": null,
            "flex": null,
            "flex_flow": null,
            "grid_area": null,
            "grid_auto_columns": null,
            "grid_auto_flow": null,
            "grid_auto_rows": null,
            "grid_column": null,
            "grid_gap": null,
            "grid_row": null,
            "grid_template_areas": null,
            "grid_template_columns": null,
            "grid_template_rows": null,
            "height": null,
            "justify_content": null,
            "justify_items": null,
            "left": null,
            "margin": null,
            "max_height": null,
            "max_width": null,
            "min_height": null,
            "min_width": null,
            "object_fit": null,
            "object_position": null,
            "order": null,
            "overflow": null,
            "overflow_x": null,
            "overflow_y": null,
            "padding": null,
            "right": null,
            "top": null,
            "visibility": null,
            "width": null
          }
        },
        "f92e7b31ef3f4ff49ff99c36feacef27": {
          "model_module": "@jupyter-widgets/base",
          "model_name": "LayoutModel",
          "state": {
            "_model_module": "@jupyter-widgets/base",
            "_model_module_version": "1.2.0",
            "_model_name": "LayoutModel",
            "_view_count": null,
            "_view_module": "@jupyter-widgets/base",
            "_view_module_version": "1.2.0",
            "_view_name": "LayoutView",
            "align_content": null,
            "align_items": null,
            "align_self": null,
            "border": null,
            "bottom": null,
            "display": null,
            "flex": null,
            "flex_flow": null,
            "grid_area": null,
            "grid_auto_columns": null,
            "grid_auto_flow": null,
            "grid_auto_rows": null,
            "grid_column": null,
            "grid_gap": null,
            "grid_row": null,
            "grid_template_areas": null,
            "grid_template_columns": null,
            "grid_template_rows": null,
            "height": null,
            "justify_content": null,
            "justify_items": null,
            "left": null,
            "margin": null,
            "max_height": null,
            "max_width": null,
            "min_height": null,
            "min_width": null,
            "object_fit": null,
            "object_position": null,
            "order": null,
            "overflow": null,
            "overflow_x": null,
            "overflow_y": null,
            "padding": null,
            "right": null,
            "top": null,
            "visibility": null,
            "width": null
          }
        },
        "5b82b767b00c4b4aa788991de6e14887": {
          "model_module": "@jupyter-widgets/controls",
          "model_name": "ProgressStyleModel",
          "state": {
            "_model_module": "@jupyter-widgets/controls",
            "_model_module_version": "1.5.0",
            "_model_name": "ProgressStyleModel",
            "_view_count": null,
            "_view_module": "@jupyter-widgets/base",
            "_view_module_version": "1.2.0",
            "_view_name": "StyleView",
            "bar_color": null,
            "description_width": "initial"
          }
        },
        "90640add74104d4d884d3d940f835572": {
          "model_module": "@jupyter-widgets/base",
          "model_name": "LayoutModel",
          "state": {
            "_model_module": "@jupyter-widgets/base",
            "_model_module_version": "1.2.0",
            "_model_name": "LayoutModel",
            "_view_count": null,
            "_view_module": "@jupyter-widgets/base",
            "_view_module_version": "1.2.0",
            "_view_name": "LayoutView",
            "align_content": null,
            "align_items": null,
            "align_self": null,
            "border": null,
            "bottom": null,
            "display": null,
            "flex": null,
            "flex_flow": null,
            "grid_area": null,
            "grid_auto_columns": null,
            "grid_auto_flow": null,
            "grid_auto_rows": null,
            "grid_column": null,
            "grid_gap": null,
            "grid_row": null,
            "grid_template_areas": null,
            "grid_template_columns": null,
            "grid_template_rows": null,
            "height": null,
            "justify_content": null,
            "justify_items": null,
            "left": null,
            "margin": null,
            "max_height": null,
            "max_width": null,
            "min_height": null,
            "min_width": null,
            "object_fit": null,
            "object_position": null,
            "order": null,
            "overflow": null,
            "overflow_x": null,
            "overflow_y": null,
            "padding": null,
            "right": null,
            "top": null,
            "visibility": null,
            "width": null
          }
        },
        "7d78356714cc4a4aa52a6d7f90712132": {
          "model_module": "@jupyter-widgets/controls",
          "model_name": "DescriptionStyleModel",
          "state": {
            "_model_module": "@jupyter-widgets/controls",
            "_model_module_version": "1.5.0",
            "_model_name": "DescriptionStyleModel",
            "_view_count": null,
            "_view_module": "@jupyter-widgets/base",
            "_view_module_version": "1.2.0",
            "_view_name": "StyleView",
            "description_width": ""
          }
        },
        "97cf4740f13941979ae3cf351da9ade2": {
          "model_module": "@jupyter-widgets/controls",
          "model_name": "HBoxModel",
          "state": {
            "_dom_classes": [],
            "_model_module": "@jupyter-widgets/controls",
            "_model_module_version": "1.5.0",
            "_model_name": "HBoxModel",
            "_view_count": null,
            "_view_module": "@jupyter-widgets/controls",
            "_view_module_version": "1.5.0",
            "_view_name": "HBoxView",
            "box_style": "",
            "children": [
              "IPY_MODEL_dc40a5cbc6144f0fa7d724230f3ec09f",
              "IPY_MODEL_520422e737504bfab0bbad187960e44b"
            ],
            "layout": "IPY_MODEL_90d3e1bab46a429b91dd9a5f4a234a5f"
          }
        },
        "dc40a5cbc6144f0fa7d724230f3ec09f": {
          "model_module": "@jupyter-widgets/controls",
          "model_name": "FloatProgressModel",
          "state": {
            "_dom_classes": [],
            "_model_module": "@jupyter-widgets/controls",
            "_model_module_version": "1.5.0",
            "_model_name": "FloatProgressModel",
            "_view_count": null,
            "_view_module": "@jupyter-widgets/controls",
            "_view_module_version": "1.5.0",
            "_view_name": "ProgressView",
            "bar_style": "success",
            "description": "Downloading: 100%",
            "description_tooltip": null,
            "layout": "IPY_MODEL_0e7d685e3d894f3fb0476b1da345df55",
            "max": 1083389348,
            "min": 0,
            "orientation": "horizontal",
            "style": "IPY_MODEL_32860154d2974fa1954058e0f8085ea3",
            "value": 1083389348
          }
        },
        "520422e737504bfab0bbad187960e44b": {
          "model_module": "@jupyter-widgets/controls",
          "model_name": "HTMLModel",
          "state": {
            "_dom_classes": [],
            "_model_module": "@jupyter-widgets/controls",
            "_model_module_version": "1.5.0",
            "_model_name": "HTMLModel",
            "_view_count": null,
            "_view_module": "@jupyter-widgets/controls",
            "_view_module_version": "1.5.0",
            "_view_name": "HTMLView",
            "description": "",
            "description_tooltip": null,
            "layout": "IPY_MODEL_737cf2b71aee4c6eb18f3398036bbb59",
            "placeholder": "​",
            "style": "IPY_MODEL_4d41980613f74d96b4bae1925e813e5a",
            "value": " 1.08G/1.08G [02:08&lt;00:00, 8.42MB/s]"
          }
        },
        "90d3e1bab46a429b91dd9a5f4a234a5f": {
          "model_module": "@jupyter-widgets/base",
          "model_name": "LayoutModel",
          "state": {
            "_model_module": "@jupyter-widgets/base",
            "_model_module_version": "1.2.0",
            "_model_name": "LayoutModel",
            "_view_count": null,
            "_view_module": "@jupyter-widgets/base",
            "_view_module_version": "1.2.0",
            "_view_name": "LayoutView",
            "align_content": null,
            "align_items": null,
            "align_self": null,
            "border": null,
            "bottom": null,
            "display": null,
            "flex": null,
            "flex_flow": null,
            "grid_area": null,
            "grid_auto_columns": null,
            "grid_auto_flow": null,
            "grid_auto_rows": null,
            "grid_column": null,
            "grid_gap": null,
            "grid_row": null,
            "grid_template_areas": null,
            "grid_template_columns": null,
            "grid_template_rows": null,
            "height": null,
            "justify_content": null,
            "justify_items": null,
            "left": null,
            "margin": null,
            "max_height": null,
            "max_width": null,
            "min_height": null,
            "min_width": null,
            "object_fit": null,
            "object_position": null,
            "order": null,
            "overflow": null,
            "overflow_x": null,
            "overflow_y": null,
            "padding": null,
            "right": null,
            "top": null,
            "visibility": null,
            "width": null
          }
        },
        "0e7d685e3d894f3fb0476b1da345df55": {
          "model_module": "@jupyter-widgets/base",
          "model_name": "LayoutModel",
          "state": {
            "_model_module": "@jupyter-widgets/base",
            "_model_module_version": "1.2.0",
            "_model_name": "LayoutModel",
            "_view_count": null,
            "_view_module": "@jupyter-widgets/base",
            "_view_module_version": "1.2.0",
            "_view_name": "LayoutView",
            "align_content": null,
            "align_items": null,
            "align_self": null,
            "border": null,
            "bottom": null,
            "display": null,
            "flex": null,
            "flex_flow": null,
            "grid_area": null,
            "grid_auto_columns": null,
            "grid_auto_flow": null,
            "grid_auto_rows": null,
            "grid_column": null,
            "grid_gap": null,
            "grid_row": null,
            "grid_template_areas": null,
            "grid_template_columns": null,
            "grid_template_rows": null,
            "height": null,
            "justify_content": null,
            "justify_items": null,
            "left": null,
            "margin": null,
            "max_height": null,
            "max_width": null,
            "min_height": null,
            "min_width": null,
            "object_fit": null,
            "object_position": null,
            "order": null,
            "overflow": null,
            "overflow_x": null,
            "overflow_y": null,
            "padding": null,
            "right": null,
            "top": null,
            "visibility": null,
            "width": null
          }
        },
        "32860154d2974fa1954058e0f8085ea3": {
          "model_module": "@jupyter-widgets/controls",
          "model_name": "ProgressStyleModel",
          "state": {
            "_model_module": "@jupyter-widgets/controls",
            "_model_module_version": "1.5.0",
            "_model_name": "ProgressStyleModel",
            "_view_count": null,
            "_view_module": "@jupyter-widgets/base",
            "_view_module_version": "1.2.0",
            "_view_name": "StyleView",
            "bar_color": null,
            "description_width": "initial"
          }
        },
        "737cf2b71aee4c6eb18f3398036bbb59": {
          "model_module": "@jupyter-widgets/base",
          "model_name": "LayoutModel",
          "state": {
            "_model_module": "@jupyter-widgets/base",
            "_model_module_version": "1.2.0",
            "_model_name": "LayoutModel",
            "_view_count": null,
            "_view_module": "@jupyter-widgets/base",
            "_view_module_version": "1.2.0",
            "_view_name": "LayoutView",
            "align_content": null,
            "align_items": null,
            "align_self": null,
            "border": null,
            "bottom": null,
            "display": null,
            "flex": null,
            "flex_flow": null,
            "grid_area": null,
            "grid_auto_columns": null,
            "grid_auto_flow": null,
            "grid_auto_rows": null,
            "grid_column": null,
            "grid_gap": null,
            "grid_row": null,
            "grid_template_areas": null,
            "grid_template_columns": null,
            "grid_template_rows": null,
            "height": null,
            "justify_content": null,
            "justify_items": null,
            "left": null,
            "margin": null,
            "max_height": null,
            "max_width": null,
            "min_height": null,
            "min_width": null,
            "object_fit": null,
            "object_position": null,
            "order": null,
            "overflow": null,
            "overflow_x": null,
            "overflow_y": null,
            "padding": null,
            "right": null,
            "top": null,
            "visibility": null,
            "width": null
          }
        },
        "4d41980613f74d96b4bae1925e813e5a": {
          "model_module": "@jupyter-widgets/controls",
          "model_name": "DescriptionStyleModel",
          "state": {
            "_model_module": "@jupyter-widgets/controls",
            "_model_module_version": "1.5.0",
            "_model_name": "DescriptionStyleModel",
            "_view_count": null,
            "_view_module": "@jupyter-widgets/base",
            "_view_module_version": "1.2.0",
            "_view_name": "StyleView",
            "description_width": ""
          }
        }
      }
    }
  },
  "cells": [
    {
      "cell_type": "code",
      "metadata": {
        "colab": {
          "base_uri": "https://localhost:8080/"
        },
        "id": "7UiDKfo2EQvn",
        "outputId": "b4f652c9-1d7a-4b5f-eeae-92ac5b76293a"
      },
      "source": [
        "%tensorflow_version 2.x\n",
        "!nvidia-smi\n",
        "%pip install -q transformers"
      ],
      "execution_count": null,
      "outputs": [
        {
          "output_type": "stream",
          "text": [
            "Thu Dec 10 04:46:10 2020       \n",
            "+-----------------------------------------------------------------------------+\n",
            "| NVIDIA-SMI 455.45.01    Driver Version: 418.67       CUDA Version: 10.1     |\n",
            "|-------------------------------+----------------------+----------------------+\n",
            "| GPU  Name        Persistence-M| Bus-Id        Disp.A | Volatile Uncorr. ECC |\n",
            "| Fan  Temp  Perf  Pwr:Usage/Cap|         Memory-Usage | GPU-Util  Compute M. |\n",
            "|                               |                      |               MIG M. |\n",
            "|===============================+======================+======================|\n",
            "|   0  Tesla T4            Off  | 00000000:00:04.0 Off |                    0 |\n",
            "| N/A   31C    P8     9W /  70W |      0MiB / 15079MiB |      0%      Default |\n",
            "|                               |                      |                 ERR! |\n",
            "+-------------------------------+----------------------+----------------------+\n",
            "                                                                               \n",
            "+-----------------------------------------------------------------------------+\n",
            "| Processes:                                                                  |\n",
            "|  GPU   GI   CI        PID   Type   Process name                  GPU Memory |\n",
            "|        ID   ID                                                   Usage      |\n",
            "|=============================================================================|\n",
            "|  No running processes found                                                 |\n",
            "+-----------------------------------------------------------------------------+\n",
            "\u001b[K     |████████████████████████████████| 1.4MB 7.8MB/s \n",
            "\u001b[K     |████████████████████████████████| 2.9MB 28.7MB/s \n",
            "\u001b[K     |████████████████████████████████| 890kB 54.4MB/s \n",
            "\u001b[?25h  Building wheel for sacremoses (setup.py) ... \u001b[?25l\u001b[?25hdone\n"
          ],
          "name": "stdout"
        }
      ]
    },
    {
      "cell_type": "code",
      "metadata": {
        "id": "GBnSyobwEybR"
      },
      "source": [
        "import os\n",
        "import pandas as pd\n",
        "from transformers import BertTokenizer\n",
        "import matplotlib.pyplot as plt\n",
        "import numpy as np\n",
        "from transformers import TFBertModel\n",
        "import datetime\n",
        "\n",
        "import tensorflow as tf\n",
        "from tensorflow import keras\n",
        "from tensorflow.keras.layers import Dropout, Dense\n",
        "from tensorflow.keras.optimizers import Adam\n",
        "from tensorflow.keras.losses import SparseCategoricalCrossentropy\n",
        "from tensorflow.keras.metrics import SparseCategoricalAccuracy\n",
        "\n",
        "import seaborn as sns\n",
        "from sklearn.metrics import confusion_matrix, classification_report\n"
      ],
      "execution_count": null,
      "outputs": []
    },
    {
      "cell_type": "code",
      "metadata": {
        "id": "0eLnU6ZsEhs5"
      },
      "source": [
        "# Loading data\n",
        "train = pd.read_csv(\"07-train.csv\", encoding = \"utf-8-sig\")\n",
        "valid = pd.read_csv(\"07-test.csv\", encoding = \"utf-8-sig\")"
      ],
      "execution_count": null,
      "outputs": []
    },
    {
      "cell_type": "code",
      "metadata": {
        "id": "OpOeI7-sQiIe"
      },
      "source": [
        "train[\"words\"] = train[\"words\"].str.replace(\"¿\",\"\")\r\n",
        "train[\"words\"] = train[\"words\"].str.replace(\"?\",\"\")\r\n",
        "valid[\"words\"] = valid[\"words\"].str.replace(\"¿\",\"\")\r\n",
        "valid[\"words\"] = valid[\"words\"].str.replace(\"?\",\"\")"
      ],
      "execution_count": null,
      "outputs": []
    },
    {
      "cell_type": "code",
      "metadata": {
        "colab": {
          "base_uri": "https://localhost:8080/",
          "height": 66,
          "referenced_widgets": [
            "35cd3a5f89f04a64b2478d7dfe27d143",
            "4b68a6ccfec646cf8f5d5f174f1f7e5b",
            "d45fcb897ffd4af19cff3ea0a4ec84e5",
            "d57a765e967d4a22ab9f57233cfc6213",
            "d1dae79baf2e42feba9f6fdaa27b26c3",
            "084100be6e624ed390579451767ae5a8",
            "04f116efe93341ddbbfdb2280f400742",
            "ab69e9a91fac4082912829806a2d4b98"
          ]
        },
        "id": "MZ9rsTr4E6zh",
        "outputId": "c3223244-6224-44ae-fe02-d0426b780f50"
      },
      "source": [
        "model_name = \"bert-base-multilingual-cased\"\n",
        "tokenizer = BertTokenizer.from_pretrained(model_name)"
      ],
      "execution_count": null,
      "outputs": [
        {
          "output_type": "display_data",
          "data": {
            "application/vnd.jupyter.widget-view+json": {
              "model_id": "35cd3a5f89f04a64b2478d7dfe27d143",
              "version_major": 2,
              "version_minor": 0
            },
            "text/plain": [
              "HBox(children=(FloatProgress(value=0.0, description='Downloading', max=995526.0, style=ProgressStyle(descripti…"
            ]
          },
          "metadata": {
            "tags": []
          }
        },
        {
          "output_type": "stream",
          "text": [
            "\n"
          ],
          "name": "stdout"
        }
      ]
    },
    {
      "cell_type": "code",
      "metadata": {
        "colab": {
          "base_uri": "https://localhost:8080/",
          "height": 281
        },
        "id": "9hM1x8QRF6ms",
        "outputId": "b2cd485e-62f6-48f6-86ba-a2341004a99a"
      },
      "source": [
        "train_sequence_lengths = [len(tokenizer.encode(text))\n",
        "                          for text in train[\"words\"]]\n",
        "max_seq_len = max(train_sequence_lengths)\n",
        "plt.hist(train_sequence_lengths, bins=30)\n",
        "plt.title(f\"max sequence length: {max_seq_len}\");"
      ],
      "execution_count": null,
      "outputs": [
        {
          "output_type": "display_data",
          "data": {
            "image/png": "[encoded data removed]",
            "text/plain": [
              "<Figure size 432x288 with 1 Axes>"
            ]
          },
          "metadata": {
            "tags": []
          }
        }
      ]
    },
    {
      "cell_type": "code",
      "metadata": {
        "id": "jlcjiqXnH6Ng"
      },
      "source": [
        "intent_names = train[\"intent\"].unique() \n",
        "intent_map = dict((label, idx) for idx, label in enumerate(intent_names))\n",
        "slot_names = [\"[PAD]\"]\n",
        "slot_names += [\"B-crop\",\"B-cultivar\",\"I-cultivar\",\"B-locality\",\"I-locality\",\"B-measure\",\"I-measure\",\"B-date\",\"I-date\",\"B-unit\",\"I-unit\",\"O\"]\n",
        "slot_map = {}\n",
        "for label in slot_names:\n",
        "    slot_map[label] = len(slot_map)"
      ],
      "execution_count": null,
      "outputs": []
    },
    {
      "cell_type": "code",
      "metadata": {
        "colab": {
          "base_uri": "https://localhost:8080/"
        },
        "id": "XiVvj_HiIHr6",
        "outputId": "13f81dcf-7167-4560-b760-ced8f39afc87"
      },
      "source": [
        "print(intent_map)\n",
        "print(slot_map)"
      ],
      "execution_count": null,
      "outputs": [
        {
          "output_type": "stream",
          "text": [
            "{'forecast_yield': 0, 'forecast_precipitation': 1, 'climatology': 2, 'cultivars': 3, 'places': 4, 'forecast_date': 5}\n",
            "{'[PAD]': 0, 'B-crop': 1, 'B-cultivar': 2, 'I-cultivar': 3, 'B-locality': 4, 'I-locality': 5, 'B-measure': 6, 'I-measure': 7, 'B-date': 8, 'I-date': 9, 'B-unit': 10, 'I-unit': 11, 'O': 12}\n"
          ],
          "name": "stdout"
        }
      ]
    },
    {
      "cell_type": "code",
      "metadata": {
        "id": "xU1hBv2AGWdD"
      },
      "source": [
        "def encode_dataset(tokenizer, text_sequences, max_length):\n",
        "    token_ids = np.zeros(shape=(len(text_sequences), max_length),\n",
        "                         dtype=np.int32)\n",
        "    for i, text_sequence in enumerate(text_sequences):\n",
        "        encoded = tokenizer.encode(text_sequence)\n",
        "        token_ids[i, 0:len(encoded)] = encoded\n",
        "    attention_masks = (token_ids != 0).astype(np.int32)\n",
        "    return {\"input_ids\": token_ids, \"attention_masks\": attention_masks}\n",
        "\n",
        "def encode_token_labels(text_sequences, slot_names, tokenizer, slot_map, max_length):\n",
        "    encoded = np.zeros(shape=(len(text_sequences), max_length), dtype=np.int32)\n",
        "    for i, (text_sequence, word_labels) in enumerate(zip(text_sequences, slot_names)):\n",
        "        encoded_labels = []\n",
        "        for word, word_label in zip(text_sequence.split(), word_labels.split()):\n",
        "            tokens = tokenizer.tokenize(word)\n",
        "            encoded_labels.append(slot_map[word_label])\n",
        "            expand_label = word_label.replace(\"B-\", \"I-\")\n",
        "            if not expand_label in slot_map:\n",
        "                expand_label = word_label\n",
        "            encoded_labels.extend([slot_map[expand_label]] * (len(tokens) - 1))\n",
        "        encoded[i, 1:len(encoded_labels) + 1] = encoded_labels\n",
        "    return encoded"
      ],
      "execution_count": null,
      "outputs": []
    },
    {
      "cell_type": "code",
      "metadata": {
        "id": "6sz4BoysGasr"
      },
      "source": [
        "encoded_train = encode_dataset(tokenizer, train[\"words\"], max_seq_len)\n",
        "encoded_valid = encode_dataset(tokenizer, valid[\"words\"], max_seq_len)"
      ],
      "execution_count": null,
      "outputs": []
    },
    {
      "cell_type": "code",
      "metadata": {
        "id": "VRVpRHJRHGkE"
      },
      "source": [
        "# print(encoded_train[\"input_ids\"])\n",
        "# print(encoded_train[\"attention_masks\"])\n",
        "# print(encoded_valid[\"input_ids\"])\n",
        "# print(encoded_valid[\"attention_masks\"])"
      ],
      "execution_count": null,
      "outputs": []
    },
    {
      "cell_type": "code",
      "metadata": {
        "id": "lOHMMvt2IOz-"
      },
      "source": [
        "intent_train = train[\"intent\"].map(intent_map).values\n",
        "intent_valid = valid[\"intent\"].map(intent_map).values"
      ],
      "execution_count": null,
      "outputs": []
    },
    {
      "cell_type": "code",
      "metadata": {
        "colab": {
          "base_uri": "https://localhost:8080/"
        },
        "id": "lwc1dN71ISHZ",
        "outputId": "fbbdcc60-78c0-4c82-8eea-e0763d8cbb05"
      },
      "source": [
        "print(intent_train)\n",
        "print(intent_valid)"
      ],
      "execution_count": null,
      "outputs": [
        {
          "output_type": "stream",
          "text": [
            "[0 1 2 1 3 0 3 1 4 0 2 0 3 3 4 1 3 0 0 3 1 1 2 5 3 0 5 3 1 4 0 4 3 2 1 5 5\n",
            " 2 5 3 3 3 0 1 1 1 0 3 4 1 1 5 5 5 4 3 4 3 5 2 3 3 5 1 0 1 3 5 0 0 0 0 4 4\n",
            " 3 1 3 0 1 1 0 4 5 1 5 1 3 3 4 5 3 4 0 1 0 3 1 4 3 3 4 2 1 1 2 0 1 4 4 4 0\n",
            " 4 1 0 3 0 0 3 3 5 0 1 5 1 4 4 5 0 4 1 3 1 5 4 1 4 1 4 5 1 1 2 1 0 1 1 1 1\n",
            " 3 5 1 5 2 2 3 3 0 1 1 2 4 0 4 2 4 1 2 5 0 1 0 1 5 2 0 3 0 1 4 4 1 2 5 0 1\n",
            " 5 4 1 3 0 2 2 1 5 3 5 2 1 2 4 0 3 4 4 2 4 4 5 1 5 2 4 5 3 4 0 4 5 0 0 2 5\n",
            " 3 0 1 4 1 4 2 2 2 4 4 0 2 4 1 4 1 3 4 0 4 4 3 2 2 2 5 2 5 0 0 2 2 3 5 3 5\n",
            " 2 0 5 3 5 2 5 2 0 3 5 1 1 2 3 0 5 0 5 1 5 0 1 3 2 0 3 3 4 1 4 2 1 3 0 0 4\n",
            " 2 5 2 0 3 4 5 4 5 5 3 3 2 1 3]\n",
            "[3 5 3 0 5 5 1 0 2 1 4 2 0 0 0 1 0 2 1 5 5 1 4 1 5 5 1 0 2 1 0 4 0 2 0 2 3\n",
            " 2 0 1 1 4 1 4 1 5 5 2 0 4 0 1 2 4 2 5 5 0 4 3 1 0 1 3 3 4 1 3 2 2 0 5 3 3\n",
            " 1 5 2 2 5 1 3 0 3 5 3 5 0 3 5 5 4 5 3 2 1 0 4 1 0 2 2 0 0 4 3 1 5 2 5 2 0\n",
            " 1 5 1 3 2 3 5 2 5 1 3 4 4 4 5 4 1 2 4 3 0 0 1]\n"
          ],
          "name": "stdout"
        }
      ]
    },
    {
      "cell_type": "code",
      "metadata": {
        "id": "3igQdezFKLc3"
      },
      "source": [
        "slot_train = encode_token_labels(train[\"words\"], train[\"labels\"], tokenizer, slot_map, max_seq_len)\n",
        "slot_valid = encode_token_labels(valid[\"words\"], valid[\"labels\"], tokenizer, slot_map, max_seq_len)"
      ],
      "execution_count": null,
      "outputs": []
    },
    {
      "cell_type": "code",
      "metadata": {
        "colab": {
          "base_uri": "https://localhost:8080/"
        },
        "id": "cimx4W-gKXpK",
        "outputId": "6d2d610a-4e6f-40f0-c144-264e71c57202"
      },
      "source": [
        "print(encoded_train[\"attention_masks\"][10])\n",
        "print(slot_train[10])\n",
        "#print(slot_valid)"
      ],
      "execution_count": null,
      "outputs": [
        {
          "output_type": "stream",
          "text": [
            "[1 1 1 1 1 1 1 1 1 1 1 1 1 1 1 1 0 0 0 0 0 0 0 0 0 0 0 0 0 0 0 0 0 0 0]\n",
            "[ 0 12 12 12 12 12 12 12  6  7  7 12 12 12 12  0  0  0  0  0  0  0  0  0\n",
            "  0  0  0  0  0  0  0  0  0  0  0]\n"
          ],
          "name": "stdout"
        }
      ]
    },
    {
      "cell_type": "code",
      "metadata": {
        "colab": {
          "base_uri": "https://localhost:8080/",
          "height": 386,
          "referenced_widgets": [
            "d1bfa928d3c24b338d9be8731715e121",
            "d7135171f7334c4faae76fe958ad0d1c",
            "0965b3e5b37a4f99b45a78b6a20b2b87",
            "584d66934b144bc4aeb33242e4304690",
            "f92e7b31ef3f4ff49ff99c36feacef27",
            "5b82b767b00c4b4aa788991de6e14887",
            "90640add74104d4d884d3d940f835572",
            "7d78356714cc4a4aa52a6d7f90712132",
            "97cf4740f13941979ae3cf351da9ade2",
            "dc40a5cbc6144f0fa7d724230f3ec09f",
            "520422e737504bfab0bbad187960e44b",
            "90d3e1bab46a429b91dd9a5f4a234a5f",
            "0e7d685e3d894f3fb0476b1da345df55",
            "32860154d2974fa1954058e0f8085ea3",
            "737cf2b71aee4c6eb18f3398036bbb59",
            "4d41980613f74d96b4bae1925e813e5a"
          ]
        },
        "id": "nlkfdTCSInt_",
        "outputId": "c7493b0e-351a-4aaa-e5d2-4fac915a4dff"
      },
      "source": [
        "base_bert_model = TFBertModel.from_pretrained(model_name)\n",
        "base_bert_model.summary()\n",
        "outputs = base_bert_model(encoded_valid)"
      ],
      "execution_count": null,
      "outputs": [
        {
          "output_type": "display_data",
          "data": {
            "application/vnd.jupyter.widget-view+json": {
              "model_id": "d1bfa928d3c24b338d9be8731715e121",
              "version_major": 2,
              "version_minor": 0
            },
            "text/plain": [
              "HBox(children=(FloatProgress(value=0.0, description='Downloading', max=625.0, style=ProgressStyle(description_…"
            ]
          },
          "metadata": {
            "tags": []
          }
        },
        {
          "output_type": "stream",
          "text": [
            "\n"
          ],
          "name": "stdout"
        },
        {
          "output_type": "display_data",
          "data": {
            "application/vnd.jupyter.widget-view+json": {
              "model_id": "97cf4740f13941979ae3cf351da9ade2",
              "version_major": 2,
              "version_minor": 0
            },
            "text/plain": [
              "HBox(children=(FloatProgress(value=0.0, description='Downloading', max=1083389348.0, style=ProgressStyle(descr…"
            ]
          },
          "metadata": {
            "tags": []
          }
        },
        {
          "output_type": "stream",
          "text": [
            "\n"
          ],
          "name": "stdout"
        },
        {
          "output_type": "stream",
          "text": [
            "Some layers from the model checkpoint at bert-base-multilingual-cased were not used when initializing TFBertModel: ['mlm___cls', 'nsp___cls']\n",
            "- This IS expected if you are initializing TFBertModel from the checkpoint of a model trained on another task or with another architecture (e.g. initializing a BertForSequenceClassification model from a BertForPreTraining model).\n",
            "- This IS NOT expected if you are initializing TFBertModel from the checkpoint of a model that you expect to be exactly identical (initializing a BertForSequenceClassification model from a BertForSequenceClassification model).\n",
            "All the layers of TFBertModel were initialized from the model checkpoint at bert-base-multilingual-cased.\n",
            "If your task is similar to the task the model of the checkpoint was trained on, you can already use TFBertModel for predictions without further training.\n"
          ],
          "name": "stderr"
        },
        {
          "output_type": "stream",
          "text": [
            "Model: \"tf_bert_model\"\n",
            "_________________________________________________________________\n",
            "Layer (type)                 Output Shape              Param #   \n",
            "=================================================================\n",
            "bert (TFBertMainLayer)       multiple                  177853440 \n",
            "=================================================================\n",
            "Total params: 177,853,440\n",
            "Trainable params: 177,853,440\n",
            "Non-trainable params: 0\n",
            "_________________________________________________________________\n"
          ],
          "name": "stdout"
        }
      ]
    },
    {
      "cell_type": "code",
      "metadata": {
        "colab": {
          "base_uri": "https://localhost:8080/"
        },
        "id": "PNp83sYXJAhh",
        "outputId": "be32a63e-c092-4996-808a-8a0d5659f0bb"
      },
      "source": [
        "len(outputs)\n",
        "# The first ouput of the BERT model is a tensor with shape: (batch_size, seq_len, output_dim) \n",
        "# which computes features for each token in the input sequence:\n",
        "print(outputs[0].shape)\n",
        "# The second output of the BERT model is a tensor with shape (batch_size, output_dim) \n",
        "# which is the vector representation of the special token [CLS]. \n",
        "# This vector is typically used as a pooled representation for the sequence as a whole. \n",
        "# This is will be used as the features of our Intent classifier:\n",
        "print(outputs[1].shape)"
      ],
      "execution_count": null,
      "outputs": [
        {
          "output_type": "stream",
          "text": [
            "(134, 35, 768)\n",
            "(134, 768)\n"
          ],
          "name": "stdout"
        }
      ]
    },
    {
      "cell_type": "code",
      "metadata": {
        "id": "LpdV7Yxmc8Xl"
      },
      "source": [
        "class JointIntentAndSlotFillingModel(tf.keras.Model):\n",
        "\n",
        "    def __init__(self, intent_num_labels=None, slot_num_labels=None, dropout_prob=0.1):        \n",
        "        super().__init__(name=\"joint_intent_slot\")\n",
        "        self.bert = TFBertModel.from_pretrained(model_name).bert\n",
        "        self.dropout = Dropout(dropout_prob)\n",
        "        self.intent_classifier = Dense(intent_num_labels,\n",
        "                                       activation='softmax',\n",
        "                                       name=\"intent_classifier\")\n",
        "        \n",
        "        self.slot_classifier = Dense(slot_num_labels,\n",
        "                                     activation='softmax',\n",
        "                                     name=\"slot_classifier\")\n",
        "\n",
        "    def call(self, inputs, **kwargs):   \n",
        "        \n",
        "        features = self.bert(inputs, **kwargs)        \n",
        "        sequence_output = features[0]\n",
        "        pooled_output = features[1]\n",
        "\n",
        "        # The first output of the main BERT layer has shape:\n",
        "        # (batch_size, max_length, output_dim)\n",
        "        sequence_output = self.dropout(sequence_output, training=kwargs.get(\"training\", False))\n",
        "        #sequence_output = self.dropout(sequence_output)\n",
        "        slot_logits = self.slot_classifier(sequence_output)\n",
        "\n",
        "        # The second output of the main BERT layer has shape:\n",
        "        # (batch_size, output_dim)\n",
        "        # and gives a \"pooled\" representation for the full sequence from the\n",
        "        # hidden state that corresponds to the \"[CLS]\" token.\n",
        "        pooled_output = self.dropout(pooled_output, training=kwargs.get(\"training\", False))\n",
        "        #pooled_output = self.dropout(pooled_output)\n",
        "        intent_logits = self.intent_classifier(pooled_output)\n",
        "\n",
        "        return slot_logits, intent_logits\n"
      ],
      "execution_count": null,
      "outputs": []
    },
    {
      "cell_type": "code",
      "metadata": {
        "id": "B_BoTkZJLAyl"
      },
      "source": [
        "def create_model(intent_num_labels, slot_num_labels):\n",
        "  \n",
        "  model_inputs =  keras.layers.Input(shape=(None,), dtype='int32', name='input_layer')\n",
        "  \n",
        "  bert = TFBertModel.from_pretrained(model_name) # get features\n",
        "  bert_output = bert(model_inputs)    \n",
        "  \n",
        "    \n",
        "  intents_drop = Dropout(rate=0.1, name=\"intent_dropout\")(bert_output[1])  \n",
        "  intents_fc = Dense(intent_num_labels, activation='softmax', name='intent_classifier')(intents_drop)\n",
        "  \n",
        "  slots_output = Dropout(rate=0.3, name='slots_dropout')(bert_output[0])\n",
        "  slots_output = Dense(500, activation='relu', name='slots_dense')(slots_output)  \n",
        "  slots_output = Dense(slot_num_labels, activation='softmax', name='slots_classifier')(slots_output)\n",
        "\n",
        "  model = keras.Model(inputs=model_inputs, outputs=[slots_output, intents_fc])\n",
        "  return model"
      ],
      "execution_count": null,
      "outputs": []
    },
    {
      "cell_type": "code",
      "metadata": {
        "colab": {
          "base_uri": "https://localhost:8080/"
        },
        "id": "eescOYX3Lgve",
        "outputId": "a7dda588-9e5a-4432-a8bc-06a8fbbf3b3a"
      },
      "source": [
        "#model2 = JointIntentAndSlotFillingModel(intent_num_labels=len(intent_map), slot_num_labels=len(slot_map))\n",
        "model2 = create_model(intent_num_labels=len(intent_map), slot_num_labels=len(slot_map))\n"
      ],
      "execution_count": null,
      "outputs": [
        {
          "output_type": "stream",
          "text": [
            "Some layers from the model checkpoint at bert-base-multilingual-cased were not used when initializing TFBertModel: ['mlm___cls', 'nsp___cls']\n",
            "- This IS expected if you are initializing TFBertModel from the checkpoint of a model trained on another task or with another architecture (e.g. initializing a BertForSequenceClassification model from a BertForPreTraining model).\n",
            "- This IS NOT expected if you are initializing TFBertModel from the checkpoint of a model that you expect to be exactly identical (initializing a BertForSequenceClassification model from a BertForSequenceClassification model).\n",
            "All the layers of TFBertModel were initialized from the model checkpoint at bert-base-multilingual-cased.\n",
            "If your task is similar to the task the model of the checkpoint was trained on, you can already use TFBertModel for predictions without further training.\n"
          ],
          "name": "stderr"
        }
      ]
    },
    {
      "cell_type": "code",
      "metadata": {
        "id": "jnyEWdb2dTsH"
      },
      "source": [
        "#opt = Adam()#learning_rate=3e-5, epsilon=1e-08)\n",
        "opt = Adam(learning_rate=3e-5, epsilon=1e-08)\n",
        "losses = [SparseCategoricalCrossentropy(from_logits=False),\n",
        "          SparseCategoricalCrossentropy(from_logits=False)]\n",
        "metrics = [SparseCategoricalAccuracy('accuracy')]\n",
        "#model.compile(optimizer=opt, loss=losses, metrics=metrics)\n",
        "model2.compile(optimizer=opt, loss=losses, metrics=metrics)\n"
      ],
      "execution_count": null,
      "outputs": []
    },
    {
      "cell_type": "code",
      "metadata": {
        "id": "cJi4hzui458t"
      },
      "source": [
        "!rm -dfr log/"
      ],
      "execution_count": null,
      "outputs": []
    },
    {
      "cell_type": "code",
      "metadata": {
        "colab": {
          "base_uri": "https://localhost:8080/"
        },
        "id": "7y5O3CThLlIp",
        "outputId": "0e1819c3-5581-4ee8-88fd-5abcdd461a2b"
      },
      "source": [
        "log_dir = \"log/demeter/\" + datetime.datetime.now().strftime(\"%Y%m%d-%H%M%s\")\n",
        "tensorboard_callback = keras.callbacks.TensorBoard(log_dir=log_dir)\n",
        "\n",
        "#history = model.fit(\n",
        "history = model2.fit(    \n",
        "    x = [encoded_train[\"input_ids\"],encoded_train[\"attention_masks\"]],\n",
        "    y = (slot_train, intent_train),\n",
        "    validation_split=0.2,\n",
        "    batch_size=90,\n",
        "    shuffle=True,\n",
        "    epochs=40,\n",
        "    callbacks=[tensorboard_callback]\n",
        "    )"
      ],
      "execution_count": null,
      "outputs": [
        {
          "output_type": "stream",
          "text": [
            "Epoch 1/40\n",
            "3/3 [==============================] - 4s 1s/step - loss: 3.3883 - slots_classifier_loss: 1.5453 - intent_classifier_loss: 1.8430 - slots_classifier_accuracy: 0.4621 - intent_classifier_accuracy: 0.2056 - val_loss: 2.6766 - val_slots_classifier_loss: 0.7115 - val_intent_classifier_loss: 1.9650 - val_slots_classifier_accuracy: 0.7728 - val_intent_classifier_accuracy: 0.1111\n",
            "Epoch 2/40\n",
            "3/3 [==============================] - 1s 429ms/step - loss: 2.4755 - slots_classifier_loss: 0.6614 - intent_classifier_loss: 1.8141 - slots_classifier_accuracy: 0.8276 - intent_classifier_accuracy: 0.2177 - val_loss: 2.3108 - val_slots_classifier_loss: 0.4196 - val_intent_classifier_loss: 1.8912 - val_slots_classifier_accuracy: 0.9197 - val_intent_classifier_accuracy: 0.1111\n",
            "Epoch 3/40\n",
            "3/3 [==============================] - 1s 435ms/step - loss: 2.3001 - slots_classifier_loss: 0.4888 - intent_classifier_loss: 1.8113 - slots_classifier_accuracy: 0.9071 - intent_classifier_accuracy: 0.2258 - val_loss: 2.2267 - val_slots_classifier_loss: 0.3682 - val_intent_classifier_loss: 1.8585 - val_slots_classifier_accuracy: 0.9211 - val_intent_classifier_accuracy: 0.1270\n",
            "Epoch 4/40\n",
            "3/3 [==============================] - 1s 433ms/step - loss: 2.2051 - slots_classifier_loss: 0.4247 - intent_classifier_loss: 1.7804 - slots_classifier_accuracy: 0.9082 - intent_classifier_accuracy: 0.2137 - val_loss: 2.1656 - val_slots_classifier_loss: 0.3255 - val_intent_classifier_loss: 1.8401 - val_slots_classifier_accuracy: 0.9211 - val_intent_classifier_accuracy: 0.1746\n",
            "Epoch 5/40\n",
            "3/3 [==============================] - 1s 436ms/step - loss: 2.1228 - slots_classifier_loss: 0.3805 - intent_classifier_loss: 1.7423 - slots_classifier_accuracy: 0.9074 - intent_classifier_accuracy: 0.2581 - val_loss: 2.0298 - val_slots_classifier_loss: 0.2997 - val_intent_classifier_loss: 1.7301 - val_slots_classifier_accuracy: 0.9211 - val_intent_classifier_accuracy: 0.3016\n",
            "Epoch 6/40\n",
            "3/3 [==============================] - 1s 433ms/step - loss: 2.0473 - slots_classifier_loss: 0.3608 - intent_classifier_loss: 1.6865 - slots_classifier_accuracy: 0.9084 - intent_classifier_accuracy: 0.3266 - val_loss: 1.9326 - val_slots_classifier_loss: 0.2868 - val_intent_classifier_loss: 1.6458 - val_slots_classifier_accuracy: 0.9215 - val_intent_classifier_accuracy: 0.2698\n",
            "Epoch 7/40\n",
            "3/3 [==============================] - 1s 436ms/step - loss: 1.8289 - slots_classifier_loss: 0.3444 - intent_classifier_loss: 1.4845 - slots_classifier_accuracy: 0.9099 - intent_classifier_accuracy: 0.4355 - val_loss: 1.6921 - val_slots_classifier_loss: 0.2684 - val_intent_classifier_loss: 1.4237 - val_slots_classifier_accuracy: 0.9229 - val_intent_classifier_accuracy: 0.5079\n",
            "Epoch 8/40\n",
            "3/3 [==============================] - 1s 434ms/step - loss: 1.6383 - slots_classifier_loss: 0.3220 - intent_classifier_loss: 1.3163 - slots_classifier_accuracy: 0.9116 - intent_classifier_accuracy: 0.5766 - val_loss: 1.6486 - val_slots_classifier_loss: 0.2650 - val_intent_classifier_loss: 1.3836 - val_slots_classifier_accuracy: 0.9234 - val_intent_classifier_accuracy: 0.3968\n",
            "Epoch 9/40\n",
            "3/3 [==============================] - 1s 435ms/step - loss: 1.5103 - slots_classifier_loss: 0.3243 - intent_classifier_loss: 1.1860 - slots_classifier_accuracy: 0.9109 - intent_classifier_accuracy: 0.5968 - val_loss: 1.3406 - val_slots_classifier_loss: 0.2621 - val_intent_classifier_loss: 1.0785 - val_slots_classifier_accuracy: 0.9234 - val_intent_classifier_accuracy: 0.6984\n",
            "Epoch 10/40\n",
            "3/3 [==============================] - 1s 437ms/step - loss: 1.1474 - slots_classifier_loss: 0.3151 - intent_classifier_loss: 0.8323 - slots_classifier_accuracy: 0.9145 - intent_classifier_accuracy: 0.7782 - val_loss: 1.1617 - val_slots_classifier_loss: 0.2527 - val_intent_classifier_loss: 0.9090 - val_slots_classifier_accuracy: 0.9247 - val_intent_classifier_accuracy: 0.7619\n",
            "Epoch 11/40\n",
            "3/3 [==============================] - 1s 438ms/step - loss: 0.9514 - slots_classifier_loss: 0.3068 - intent_classifier_loss: 0.6446 - slots_classifier_accuracy: 0.9151 - intent_classifier_accuracy: 0.8669 - val_loss: 0.9718 - val_slots_classifier_loss: 0.2330 - val_intent_classifier_loss: 0.7389 - val_slots_classifier_accuracy: 0.9288 - val_intent_classifier_accuracy: 0.8095\n",
            "Epoch 12/40\n",
            "3/3 [==============================] - 1s 434ms/step - loss: 0.8122 - slots_classifier_loss: 0.2903 - intent_classifier_loss: 0.5219 - slots_classifier_accuracy: 0.9204 - intent_classifier_accuracy: 0.8831 - val_loss: 0.8278 - val_slots_classifier_loss: 0.2214 - val_intent_classifier_loss: 0.6065 - val_slots_classifier_accuracy: 0.9329 - val_intent_classifier_accuracy: 0.8571\n",
            "Epoch 13/40\n",
            "3/3 [==============================] - 1s 437ms/step - loss: 0.6759 - slots_classifier_loss: 0.2866 - intent_classifier_loss: 0.3893 - slots_classifier_accuracy: 0.9204 - intent_classifier_accuracy: 0.9234 - val_loss: 0.7659 - val_slots_classifier_loss: 0.2128 - val_intent_classifier_loss: 0.5532 - val_slots_classifier_accuracy: 0.9324 - val_intent_classifier_accuracy: 0.8413\n",
            "Epoch 14/40\n",
            "3/3 [==============================] - 1s 436ms/step - loss: 0.5614 - slots_classifier_loss: 0.2674 - intent_classifier_loss: 0.2940 - slots_classifier_accuracy: 0.9259 - intent_classifier_accuracy: 0.9315 - val_loss: 0.7517 - val_slots_classifier_loss: 0.2041 - val_intent_classifier_loss: 0.5475 - val_slots_classifier_accuracy: 0.9383 - val_intent_classifier_accuracy: 0.8413\n",
            "Epoch 15/40\n",
            "3/3 [==============================] - 1s 437ms/step - loss: 0.4565 - slots_classifier_loss: 0.2612 - intent_classifier_loss: 0.1952 - slots_classifier_accuracy: 0.9298 - intent_classifier_accuracy: 0.9758 - val_loss: 0.7248 - val_slots_classifier_loss: 0.1962 - val_intent_classifier_loss: 0.5285 - val_slots_classifier_accuracy: 0.9415 - val_intent_classifier_accuracy: 0.8413\n",
            "Epoch 16/40\n",
            "3/3 [==============================] - 1s 437ms/step - loss: 0.3791 - slots_classifier_loss: 0.2459 - intent_classifier_loss: 0.1333 - slots_classifier_accuracy: 0.9320 - intent_classifier_accuracy: 0.9839 - val_loss: 0.6819 - val_slots_classifier_loss: 0.1790 - val_intent_classifier_loss: 0.5029 - val_slots_classifier_accuracy: 0.9469 - val_intent_classifier_accuracy: 0.8730\n",
            "Epoch 17/40\n",
            "3/3 [==============================] - 1s 436ms/step - loss: 0.3391 - slots_classifier_loss: 0.2337 - intent_classifier_loss: 0.1054 - slots_classifier_accuracy: 0.9333 - intent_classifier_accuracy: 0.9879 - val_loss: 0.7391 - val_slots_classifier_loss: 0.1664 - val_intent_classifier_loss: 0.5727 - val_slots_classifier_accuracy: 0.9492 - val_intent_classifier_accuracy: 0.8254\n",
            "Epoch 18/40\n",
            "3/3 [==============================] - 1s 440ms/step - loss: 0.3008 - slots_classifier_loss: 0.2147 - intent_classifier_loss: 0.0860 - slots_classifier_accuracy: 0.9387 - intent_classifier_accuracy: 0.9919 - val_loss: 0.7816 - val_slots_classifier_loss: 0.1569 - val_intent_classifier_loss: 0.6247 - val_slots_classifier_accuracy: 0.9519 - val_intent_classifier_accuracy: 0.8254\n",
            "Epoch 19/40\n",
            "3/3 [==============================] - 1s 437ms/step - loss: 0.2800 - slots_classifier_loss: 0.2028 - intent_classifier_loss: 0.0773 - slots_classifier_accuracy: 0.9407 - intent_classifier_accuracy: 0.9919 - val_loss: 0.7548 - val_slots_classifier_loss: 0.1454 - val_intent_classifier_loss: 0.6095 - val_slots_classifier_accuracy: 0.9578 - val_intent_classifier_accuracy: 0.8254\n",
            "Epoch 20/40\n",
            "3/3 [==============================] - 1s 438ms/step - loss: 0.2449 - slots_classifier_loss: 0.1927 - intent_classifier_loss: 0.0522 - slots_classifier_accuracy: 0.9454 - intent_classifier_accuracy: 0.9919 - val_loss: 0.6981 - val_slots_classifier_loss: 0.1365 - val_intent_classifier_loss: 0.5616 - val_slots_classifier_accuracy: 0.9615 - val_intent_classifier_accuracy: 0.8254\n",
            "Epoch 21/40\n",
            "3/3 [==============================] - 1s 444ms/step - loss: 0.2201 - slots_classifier_loss: 0.1753 - intent_classifier_loss: 0.0447 - slots_classifier_accuracy: 0.9526 - intent_classifier_accuracy: 0.9960 - val_loss: 0.6471 - val_slots_classifier_loss: 0.1292 - val_intent_classifier_loss: 0.5180 - val_slots_classifier_accuracy: 0.9642 - val_intent_classifier_accuracy: 0.8730\n",
            "Epoch 22/40\n",
            "3/3 [==============================] - 1s 442ms/step - loss: 0.2023 - slots_classifier_loss: 0.1691 - intent_classifier_loss: 0.0331 - slots_classifier_accuracy: 0.9505 - intent_classifier_accuracy: 1.0000 - val_loss: 0.6566 - val_slots_classifier_loss: 0.1221 - val_intent_classifier_loss: 0.5345 - val_slots_classifier_accuracy: 0.9664 - val_intent_classifier_accuracy: 0.8571\n",
            "Epoch 23/40\n",
            "3/3 [==============================] - 1s 441ms/step - loss: 0.1873 - slots_classifier_loss: 0.1602 - intent_classifier_loss: 0.0271 - slots_classifier_accuracy: 0.9543 - intent_classifier_accuracy: 1.0000 - val_loss: 0.6553 - val_slots_classifier_loss: 0.1146 - val_intent_classifier_loss: 0.5408 - val_slots_classifier_accuracy: 0.9696 - val_intent_classifier_accuracy: 0.8571\n",
            "Epoch 24/40\n",
            "3/3 [==============================] - 1s 440ms/step - loss: 0.1745 - slots_classifier_loss: 0.1459 - intent_classifier_loss: 0.0286 - slots_classifier_accuracy: 0.9586 - intent_classifier_accuracy: 1.0000 - val_loss: 0.6195 - val_slots_classifier_loss: 0.1070 - val_intent_classifier_loss: 0.5125 - val_slots_classifier_accuracy: 0.9723 - val_intent_classifier_accuracy: 0.8571\n",
            "Epoch 25/40\n",
            "3/3 [==============================] - 1s 443ms/step - loss: 0.1577 - slots_classifier_loss: 0.1337 - intent_classifier_loss: 0.0240 - slots_classifier_accuracy: 0.9630 - intent_classifier_accuracy: 1.0000 - val_loss: 0.5823 - val_slots_classifier_loss: 0.1013 - val_intent_classifier_loss: 0.4810 - val_slots_classifier_accuracy: 0.9751 - val_intent_classifier_accuracy: 0.8730\n",
            "Epoch 26/40\n",
            "3/3 [==============================] - 1s 438ms/step - loss: 0.1483 - slots_classifier_loss: 0.1261 - intent_classifier_loss: 0.0222 - slots_classifier_accuracy: 0.9641 - intent_classifier_accuracy: 1.0000 - val_loss: 0.5690 - val_slots_classifier_loss: 0.0975 - val_intent_classifier_loss: 0.4715 - val_slots_classifier_accuracy: 0.9769 - val_intent_classifier_accuracy: 0.8889\n",
            "Epoch 27/40\n",
            "3/3 [==============================] - 1s 440ms/step - loss: 0.1389 - slots_classifier_loss: 0.1203 - intent_classifier_loss: 0.0186 - slots_classifier_accuracy: 0.9665 - intent_classifier_accuracy: 1.0000 - val_loss: 0.5723 - val_slots_classifier_loss: 0.0942 - val_intent_classifier_loss: 0.4781 - val_slots_classifier_accuracy: 0.9769 - val_intent_classifier_accuracy: 0.8889\n",
            "Epoch 28/40\n",
            "3/3 [==============================] - 1s 441ms/step - loss: 0.1298 - slots_classifier_loss: 0.1155 - intent_classifier_loss: 0.0143 - slots_classifier_accuracy: 0.9665 - intent_classifier_accuracy: 1.0000 - val_loss: 0.5711 - val_slots_classifier_loss: 0.0915 - val_intent_classifier_loss: 0.4796 - val_slots_classifier_accuracy: 0.9769 - val_intent_classifier_accuracy: 0.8889\n",
            "Epoch 29/40\n",
            "3/3 [==============================] - 1s 439ms/step - loss: 0.1245 - slots_classifier_loss: 0.1072 - intent_classifier_loss: 0.0173 - slots_classifier_accuracy: 0.9696 - intent_classifier_accuracy: 1.0000 - val_loss: 0.5720 - val_slots_classifier_loss: 0.0878 - val_intent_classifier_loss: 0.4842 - val_slots_classifier_accuracy: 0.9778 - val_intent_classifier_accuracy: 0.8889\n",
            "Epoch 30/40\n",
            "3/3 [==============================] - 1s 442ms/step - loss: 0.1154 - slots_classifier_loss: 0.0993 - intent_classifier_loss: 0.0161 - slots_classifier_accuracy: 0.9725 - intent_classifier_accuracy: 1.0000 - val_loss: 0.5615 - val_slots_classifier_loss: 0.0833 - val_intent_classifier_loss: 0.4782 - val_slots_classifier_accuracy: 0.9782 - val_intent_classifier_accuracy: 0.9048\n",
            "Epoch 31/40\n",
            "3/3 [==============================] - 1s 443ms/step - loss: 0.1054 - slots_classifier_loss: 0.0927 - intent_classifier_loss: 0.0127 - slots_classifier_accuracy: 0.9750 - intent_classifier_accuracy: 1.0000 - val_loss: 0.5384 - val_slots_classifier_loss: 0.0801 - val_intent_classifier_loss: 0.4583 - val_slots_classifier_accuracy: 0.9796 - val_intent_classifier_accuracy: 0.8889\n",
            "Epoch 32/40\n",
            "3/3 [==============================] - 1s 443ms/step - loss: 0.1052 - slots_classifier_loss: 0.0902 - intent_classifier_loss: 0.0149 - slots_classifier_accuracy: 0.9755 - intent_classifier_accuracy: 1.0000 - val_loss: 0.5337 - val_slots_classifier_loss: 0.0784 - val_intent_classifier_loss: 0.4553 - val_slots_classifier_accuracy: 0.9805 - val_intent_classifier_accuracy: 0.8889\n",
            "Epoch 33/40\n",
            "3/3 [==============================] - 1s 444ms/step - loss: 0.0908 - slots_classifier_loss: 0.0796 - intent_classifier_loss: 0.0112 - slots_classifier_accuracy: 0.9790 - intent_classifier_accuracy: 1.0000 - val_loss: 0.5414 - val_slots_classifier_loss: 0.0776 - val_intent_classifier_loss: 0.4637 - val_slots_classifier_accuracy: 0.9810 - val_intent_classifier_accuracy: 0.9048\n",
            "Epoch 34/40\n",
            "3/3 [==============================] - 1s 446ms/step - loss: 0.0951 - slots_classifier_loss: 0.0805 - intent_classifier_loss: 0.0146 - slots_classifier_accuracy: 0.9768 - intent_classifier_accuracy: 1.0000 - val_loss: 0.5448 - val_slots_classifier_loss: 0.0772 - val_intent_classifier_loss: 0.4675 - val_slots_classifier_accuracy: 0.9805 - val_intent_classifier_accuracy: 0.8889\n",
            "Epoch 35/40\n",
            "3/3 [==============================] - 1s 447ms/step - loss: 0.0862 - slots_classifier_loss: 0.0746 - intent_classifier_loss: 0.0116 - slots_classifier_accuracy: 0.9809 - intent_classifier_accuracy: 1.0000 - val_loss: 0.5580 - val_slots_classifier_loss: 0.0768 - val_intent_classifier_loss: 0.4812 - val_slots_classifier_accuracy: 0.9805 - val_intent_classifier_accuracy: 0.8889\n",
            "Epoch 36/40\n",
            "3/3 [==============================] - 1s 442ms/step - loss: 0.0808 - slots_classifier_loss: 0.0690 - intent_classifier_loss: 0.0119 - slots_classifier_accuracy: 0.9798 - intent_classifier_accuracy: 1.0000 - val_loss: 0.5816 - val_slots_classifier_loss: 0.0758 - val_intent_classifier_loss: 0.5058 - val_slots_classifier_accuracy: 0.9805 - val_intent_classifier_accuracy: 0.8730\n",
            "Epoch 37/40\n",
            "3/3 [==============================] - 1s 442ms/step - loss: 0.0771 - slots_classifier_loss: 0.0673 - intent_classifier_loss: 0.0098 - slots_classifier_accuracy: 0.9816 - intent_classifier_accuracy: 1.0000 - val_loss: 0.5916 - val_slots_classifier_loss: 0.0743 - val_intent_classifier_loss: 0.5173 - val_slots_classifier_accuracy: 0.9819 - val_intent_classifier_accuracy: 0.8730\n",
            "Epoch 38/40\n",
            "3/3 [==============================] - 1s 444ms/step - loss: 0.0704 - slots_classifier_loss: 0.0620 - intent_classifier_loss: 0.0084 - slots_classifier_accuracy: 0.9846 - intent_classifier_accuracy: 1.0000 - val_loss: 0.5972 - val_slots_classifier_loss: 0.0727 - val_intent_classifier_loss: 0.5245 - val_slots_classifier_accuracy: 0.9814 - val_intent_classifier_accuracy: 0.8730\n",
            "Epoch 39/40\n",
            "3/3 [==============================] - 1s 444ms/step - loss: 0.0711 - slots_classifier_loss: 0.0616 - intent_classifier_loss: 0.0094 - slots_classifier_accuracy: 0.9827 - intent_classifier_accuracy: 1.0000 - val_loss: 0.6027 - val_slots_classifier_loss: 0.0714 - val_intent_classifier_loss: 0.5312 - val_slots_classifier_accuracy: 0.9823 - val_intent_classifier_accuracy: 0.8730\n",
            "Epoch 40/40\n",
            "3/3 [==============================] - 1s 450ms/step - loss: 0.0639 - slots_classifier_loss: 0.0564 - intent_classifier_loss: 0.0076 - slots_classifier_accuracy: 0.9841 - intent_classifier_accuracy: 1.0000 - val_loss: 0.5802 - val_slots_classifier_loss: 0.0703 - val_intent_classifier_loss: 0.5098 - val_slots_classifier_accuracy: 0.9823 - val_intent_classifier_accuracy: 0.9048\n"
          ],
          "name": "stdout"
        }
      ]
    },
    {
      "cell_type": "code",
      "metadata": {
        "colab": {
          "base_uri": "https://localhost:8080/",
          "height": 821
        },
        "id": "WOijP1WbQtz-",
        "outputId": "2ec05f99-94ec-495c-bb7e-6fafbd5516cb"
      },
      "source": [
        "%load_ext tensorboard\n",
        "%tensorboard --logdir log"
      ],
      "execution_count": null,
      "outputs": []
    },
    {
      "cell_type": "code",
      "metadata": {
        "colab": {
          "base_uri": "https://localhost:8080/"
        },
        "id": "QbV_nGHzHnpR",
        "outputId": "fb221e6e-29b2-45e9-b8cf-a7243af29454"
      },
      "source": [
        "model2.summary()\r\n"
      ],
      "execution_count": null,
      "outputs": [
        {
          "output_type": "stream",
          "text": [
            "Model: \"functional_1\"\n",
            "__________________________________________________________________________________________________\n",
            "Layer (type)                    Output Shape         Param #     Connected to                     \n",
            "==================================================================================================\n",
            "input_layer (InputLayer)        [(None, None)]       0                                            \n",
            "__________________________________________________________________________________________________\n",
            "tf_bert_model_1 (TFBertModel)   TFBaseModelOutputWit 177853440   input_layer[0][0]                \n",
            "__________________________________________________________________________________________________\n",
            "slots_dropout (Dropout)         (None, None, 768)    0           tf_bert_model_1[0][0]            \n",
            "__________________________________________________________________________________________________\n",
            "slots_dense (Dense)             (None, None, 500)    384500      slots_dropout[0][0]              \n",
            "__________________________________________________________________________________________________\n",
            "intent_dropout (Dropout)        (None, 768)          0           tf_bert_model_1[0][1]            \n",
            "__________________________________________________________________________________________________\n",
            "slots_classifier (Dense)        (None, None, 13)     6513        slots_dense[0][0]                \n",
            "__________________________________________________________________________________________________\n",
            "intent_classifier (Dense)       (None, 6)            4614        intent_dropout[0][0]             \n",
            "==================================================================================================\n",
            "Total params: 178,249,067\n",
            "Trainable params: 178,249,067\n",
            "Non-trainable params: 0\n",
            "__________________________________________________________________________________________________\n"
          ],
          "name": "stdout"
        }
      ]
    },
    {
      "cell_type": "code",
      "metadata": {
        "colab": {
          "base_uri": "https://localhost:8080/"
        },
        "id": "KTBN2arq9wu8",
        "outputId": "01aca914-2247-464a-eb7d-7b03e2d7a768"
      },
      "source": [
        "tf.saved_model.save(model2, 'demeter_model')"
      ],
      "execution_count": null,
      "outputs": [
        {
          "output_type": "stream",
          "text": [
            "WARNING:tensorflow:From /usr/local/lib/python3.6/dist-packages/tensorflow/python/training/tracking/tracking.py:111: Model.state_updates (from tensorflow.python.keras.engine.training) is deprecated and will be removed in a future version.\n",
            "Instructions for updating:\n",
            "This property should not be used in TensorFlow 2.0, as updates are applied automatically.\n",
            "WARNING:tensorflow:From /usr/local/lib/python3.6/dist-packages/tensorflow/python/training/tracking/tracking.py:111: Layer.updates (from tensorflow.python.keras.engine.base_layer) is deprecated and will be removed in a future version.\n",
            "Instructions for updating:\n",
            "This property should not be used in TensorFlow 2.0, as updates are applied automatically.\n",
            "INFO:tensorflow:Assets written to: demeter_model/assets\n"
          ],
          "name": "stdout"
        }
      ]
    },
    {
      "cell_type": "code",
      "metadata": {
        "colab": {
          "base_uri": "https://localhost:8080/"
        },
        "id": "3TkdgHkxHtlY",
        "outputId": "4110e14f-047a-4b47-fc0f-35f5cefe69a0"
      },
      "source": [
        "!zip -r demeter_model.zip demeter_model"
      ],
      "execution_count": null,
      "outputs": [
        {
          "output_type": "stream",
          "text": [
            "  adding: demeter_model/ (stored 0%)\n",
            "  adding: demeter_model/assets/ (stored 0%)\n",
            "  adding: demeter_model/saved_model.pb (deflated 92%)\n",
            "  adding: demeter_model/variables/ (stored 0%)\n",
            "  adding: demeter_model/variables/variables.data-00000-of-00001 (deflated 39%)\n",
            "  adding: demeter_model/variables/variables.index (deflated 80%)\n"
          ],
          "name": "stdout"
        }
      ]
    },
    {
      "cell_type": "code",
      "metadata": {
        "colab": {
          "base_uri": "https://localhost:8080/",
          "height": 34
        },
        "id": "zdvh30Wt93zC",
        "outputId": "0bc8a62e-77f8-4d93-a8fd-ebc0fbc672f8"
      },
      "source": [
        "from google.colab import files\r\n",
        "files.download('demeter_model.zip') "
      ],
      "execution_count": null,
      "outputs": [
        {
          "output_type": "display_data",
          "data": {
            "application/javascript": [
              "\n",
              "    async function download(id, filename, size) {\n",
              "      if (!google.colab.kernel.accessAllowed) {\n",
              "        return;\n",
              "      }\n",
              "      const div = document.createElement('div');\n",
              "      const label = document.createElement('label');\n",
              "      label.textContent = `Downloading \"${filename}\": `;\n",
              "      div.appendChild(label);\n",
              "      const progress = document.createElement('progress');\n",
              "      progress.max = size;\n",
              "      div.appendChild(progress);\n",
              "      document.body.appendChild(div);\n",
              "\n",
              "      const buffers = [];\n",
              "      let downloaded = 0;\n",
              "\n",
              "      const channel = await google.colab.kernel.comms.open(id);\n",
              "      // Send a message to notify the kernel that we're ready.\n",
              "      channel.send({})\n",
              "\n",
              "      for await (const message of channel.messages) {\n",
              "        // Send a message to notify the kernel that we're ready.\n",
              "        channel.send({})\n",
              "        if (message.buffers) {\n",
              "          for (const buffer of message.buffers) {\n",
              "            buffers.push(buffer);\n",
              "            downloaded += buffer.byteLength;\n",
              "            progress.value = downloaded;\n",
              "          }\n",
              "        }\n",
              "      }\n",
              "      const blob = new Blob(buffers, {type: 'application/binary'});\n",
              "      const a = document.createElement('a');\n",
              "      a.href = window.URL.createObjectURL(blob);\n",
              "      a.download = filename;\n",
              "      div.appendChild(a);\n",
              "      a.click();\n",
              "      div.remove();\n",
              "    }\n",
              "  "
            ],
            "text/plain": [
              "<IPython.core.display.Javascript object>"
            ]
          },
          "metadata": {
            "tags": []
          }
        },
        {
          "output_type": "display_data",
          "data": {
            "application/javascript": [
              "download(\"download_46718bc1-9568-4685-8bb2-4739bfdf8358\", \"demeter_model.zip\", 1300168072)"
            ],
            "text/plain": [
              "<IPython.core.display.Javascript object>"
            ]
          },
          "metadata": {
            "tags": []
          }
        }
      ]
    },
    {
      "cell_type": "code",
      "metadata": {
        "colab": {
          "base_uri": "https://localhost:8080/"
        },
        "id": "6XTR9vTCIisW",
        "outputId": "15c15139-5064-419c-a0b0-ce36ac552681"
      },
      "source": [
        "#_, train_acc = model.evaluate([encoded_train[\"input_ids\"],encoded_train[\"attention_masks\"]], (slot_train, intent_train))\n",
        "#_, test_acc = model.evaluate([encoded_valid[\"input_ids\"],encoded_valid[\"attention_masks\"]], (slot_valid, intent_valid))\n",
        "\n",
        "\n",
        "train_e = model2.evaluate([encoded_train[\"input_ids\"],encoded_train[\"attention_masks\"]], (slot_train, intent_train))\n",
        "test_e = model2.evaluate([encoded_valid[\"input_ids\"],encoded_valid[\"attention_masks\"]], (slot_valid, intent_valid))\n",
        "\n",
        "#train_e = model.evaluate([encoded_train[\"input_ids\"],encoded_train[\"attention_masks\"]], (slot_train, intent_train))\n",
        "#test_e = model.evaluate([encoded_valid[\"input_ids\"],encoded_valid[\"attention_masks\"]], (slot_valid, intent_valid))\n",
        "\n",
        "#print(\"train acc\", train_acc)\n",
        "#print(\"test acc\", test_acc)"
      ],
      "execution_count": null,
      "outputs": [
        {
          "output_type": "stream",
          "text": [
            "10/10 [==============================] - 1s 85ms/step - loss: 0.1466 - slots_classifier_loss: 0.0417 - intent_classifier_loss: 0.1049 - slots_classifier_accuracy: 0.9885 - intent_classifier_accuracy: 0.9807\n",
            "5/5 [==============================] - 0s 60ms/step - loss: 1.0143 - slots_classifier_loss: 0.1021 - intent_classifier_loss: 0.9123 - slots_classifier_accuracy: 0.9748 - intent_classifier_accuracy: 0.7836\n"
          ],
          "name": "stdout"
        }
      ]
    },
    {
      "cell_type": "code",
      "metadata": {
        "id": "7ij9voJlJM7V"
      },
      "source": [
        "y_pred = model2.predict([encoded_valid[\"input_ids\"], encoded_valid[\"attention_masks\"]])#.argmax(axis=-1)\r\n",
        "#y_pred = model.predict([encoded_valid[\"input_ids\"], encoded_valid[\"attention_masks\"]])#.argmax(axis=-1)"
      ],
      "execution_count": null,
      "outputs": []
    },
    {
      "cell_type": "code",
      "metadata": {
        "colab": {
          "base_uri": "https://localhost:8080/",
          "height": 333
        },
        "id": "2PwxYMQyyJiZ",
        "outputId": "effaf985-b0c3-47df-fb15-8347a7c9a412"
      },
      "source": [
        "y_intent = y_pred[1].argmax(axis=-1)\n",
        "cm = confusion_matrix(intent_valid, y_intent)\n",
        "df_cm = pd.DataFrame(cm, index=intent_map, columns=intent_map)\n",
        "\n",
        "hmap = sns.heatmap(df_cm, annot=True, fmt=\"d\")\n",
        "hmap.yaxis.set_ticklabels(hmap.yaxis.get_ticklabels(), rotation=0, ha='right')\n",
        "hmap.xaxis.set_ticklabels(hmap.xaxis.get_ticklabels(), rotation=30, ha='right')\n",
        "plt.ylabel('True label')\n",
        "plt.xlabel('Predicted label');"
      ],
      "execution_count": null,
      "outputs": [
        {
          "output_type": "display_data",
          "data": {
            "image/png": "[encoded data removed]",
            "text/plain": [
              "<Figure size 432x288 with 2 Axes>"
            ]
          },
          "metadata": {
            "tags": []
          }
        }
      ]
    },
    {
      "cell_type": "code",
      "metadata": {
        "id": "9Lcp_s7H6qew"
      },
      "source": [
        "from google.colab import files\n",
        "#files.download('demeter_m.zip') "
      ],
      "execution_count": null,
      "outputs": []
    },
    {
      "cell_type": "code",
      "metadata": {
        "colab": {
          "base_uri": "https://localhost:8080/"
        },
        "id": "WigqD4daIDJP",
        "outputId": "9ef14ff5-3da4-48cf-cba8-6b485f2ad4df"
      },
      "source": [
        "def show_predictions(text, tokenizer, my_model, intent_names, slot_names):\n",
        "    inputs = tf.constant(tokenizer.encode(text))[None, :]  # batch_size = 1\n",
        "    outputs = my_model(inputs)\n",
        "    slot_probs, intent_probs = outputs    \n",
        "    slot_ids = slot_probs.numpy().argmax(axis=-1)[0, 1:-1]    \n",
        "    intent_id = intent_probs.numpy().argmax(axis=-1)[0]    \n",
        "    print(\"## Intent:\", intent_names[intent_id])\n",
        "    print(\"## Slots:\")\n",
        "    for token, slot_id in zip(tokenizer.tokenize(text), slot_ids):\n",
        "        print(f\"{token:>10} : {slot_names[slot_id]}\")\n",
        "\n",
        "show_predictions(\"Cúal es el mejor tiempo para sembrar en papa en Ibague\", tokenizer, model2, intent_names, slot_names)"
      ],
      "execution_count": null,
      "outputs": [
        {
          "output_type": "stream",
          "text": [
            "## Intent: forecast_date\n",
            "## Slots:\n",
            "         C : O\n",
            "      ##úa : B-crop\n",
            "       ##l : B-crop\n",
            "        es : O\n",
            "        el : O\n",
            "     mejor : O\n",
            "    tiempo : O\n",
            "      para : O\n",
            "    sembra : O\n",
            "       ##r : O\n",
            "        en : O\n",
            "      papa : B-crop\n",
            "        en : O\n",
            "         I : B-locality\n",
            "      ##ba : I-locality\n",
            "     ##gue : I-locality\n"
          ],
          "name": "stdout"
        }
      ]
    },
    {
      "cell_type": "code",
      "metadata": {
        "id": "TAhYG6gdUvnO"
      },
      "source": [
        "def decode_predictions(text, tokenizer, intent_names, slot_names,\r\n",
        "                       intent_id, slot_ids):\r\n",
        "    info = {\"intent\": intent_names[intent_id]}\r\n",
        "    collected_slots = {}\r\n",
        "    active_slot_words = []\r\n",
        "    active_slot_name = None\r\n",
        "    for word in text.split():\r\n",
        "        tokens = tokenizer.tokenize(word)\r\n",
        "        current_word_slot_ids = slot_ids[:len(tokens)]\r\n",
        "        slot_ids = slot_ids[len(tokens):]\r\n",
        "        current_word_slot_name = slot_names[current_word_slot_ids[0]]\r\n",
        "        if current_word_slot_name == \"O\":\r\n",
        "            if active_slot_name:\r\n",
        "                collected_slots[active_slot_name] = \" \".join(active_slot_words)\r\n",
        "                active_slot_words = []\r\n",
        "                active_slot_name = None\r\n",
        "        else:\r\n",
        "            # Naive BIO: handling: treat B- and I- the same...\r\n",
        "            new_slot_name = current_word_slot_name[2:]\r\n",
        "            if active_slot_name is None:\r\n",
        "                active_slot_words.append(word)\r\n",
        "                active_slot_name = new_slot_name\r\n",
        "            elif new_slot_name == active_slot_name:\r\n",
        "                active_slot_words.append(word)\r\n",
        "            else:\r\n",
        "                collected_slots[active_slot_name] = \" \".join(active_slot_words)\r\n",
        "                active_slot_words = [word]\r\n",
        "                active_slot_name = new_slot_name\r\n",
        "    if active_slot_name:\r\n",
        "        collected_slots[active_slot_name] = \" \".join(active_slot_words)\r\n",
        "    info[\"slots\"] = collected_slots\r\n",
        "    return info"
      ],
      "execution_count": null,
      "outputs": []
    },
    {
      "cell_type": "code",
      "metadata": {
        "colab": {
          "background_save": true,
          "base_uri": "https://localhost:8080/"
        },
        "id": "wrjO8HvaUyuK",
        "outputId": "54efd954-4964-4da4-aff2-2844f6e88884"
      },
      "source": [
        "def nlu(text, tokenizer, my_model, intent_names, slot_names):\r\n",
        "    inputs = tf.constant(tokenizer.encode(text))[None, :]  # batch_size = 1\r\n",
        "    outputs = my_model(inputs)\r\n",
        "    slot_logits, intent_logits = outputs\r\n",
        "    slot_ids = slot_logits.numpy().argmax(axis=-1)[0, 1:-1]\r\n",
        "    intent_id = intent_logits.numpy().argmax(axis=-1)[0]\r\n",
        "\r\n",
        "    return decode_predictions(text, tokenizer, intent_names, slot_names,\r\n",
        "                              intent_id, slot_ids)\r\n",
        "\r\n",
        "nlu(\"Cúal es la climatologia de temperatura máxima en Ibague\",tokenizer, model2, intent_names, slot_names)"
      ],
      "execution_count": null,
      "outputs": [
        {
          "output_type": "execute_result",
          "data": {
            "text/plain": [
              "{'intent': 'climatology', 'slots': {'locality': 'Ibague'}}"
            ]
          },
          "metadata": {
            "tags": []
          },
          "execution_count": 0
        }
      ]
    },
    {
      "cell_type": "code",
      "metadata": {
        "colab": {
          "base_uri": "https://localhost:8080/"
        },
        "id": "UiGuTMGP1hsm",
        "outputId": "a007c0ad-ac1e-47ef-a750-7694c02263fe"
      },
      "source": [
        "tf.saved_model.save(model2, 'demeter_model')\r\n",
        "from google.colab import files\r\n",
        "files.download('demeter_m.zip') \r\n",
        "!zip -r demeter_m.zip demeter_m"
      ],
      "execution_count": null,
      "outputs": [
        {
          "output_type": "stream",
          "text": [
            "INFO:tensorflow:Assets written to: mymodel/assets\n"
          ],
          "name": "stdout"
        }
      ]
    },
    {
      "cell_type": "code",
      "metadata": {
        "id": "VzisJUU69deu"
      },
      "source": [
        ""
      ],
      "execution_count": null,
      "outputs": []
    },
    {
      "cell_type": "code",
      "metadata": {
        "id": "h4t9Yzqz40-c"
      },
      "source": [
        "model_loaded = tf.saved_model.load(\"demeter_model\")"
      ],
      "execution_count": null,
      "outputs": []
    },
    {
      "cell_type": "code",
      "metadata": {
        "colab": {
          "base_uri": "https://localhost:8080/"
        },
        "id": "aDkI21rc5l3q",
        "outputId": "b89aeb30-c117-4013-e007-d2dca24d9406"
      },
      "source": [
        "show_predictions(\"Cúal es el mejor tiempo para sembrar arroz en Cali\", tokenizer, model_loaded, intent_names, slot_names)"
      ],
      "execution_count": null,
      "outputs": [
        {
          "output_type": "stream",
          "text": [
            "## Intent: forecast_date\n",
            "## Slots:\n",
            "         C : B-locality\n",
            "      ##úa : I-cultivar\n",
            "       ##l : I-cultivar\n",
            "        es : O\n",
            "        el : O\n",
            "     mejor : O\n",
            "    tiempo : O\n",
            "      para : O\n",
            "    sembra : O\n",
            "       ##r : O\n",
            "     arroz : B-crop\n",
            "        en : O\n",
            "      Cali : B-locality\n"
          ],
          "name": "stdout"
        }
      ]
    },
    {
      "cell_type": "code",
      "metadata": {
        "colab": {
          "base_uri": "https://localhost:8080/"
        },
        "id": "XrhGCYvG8npK",
        "outputId": "68f5ab20-45b5-48a0-d02b-277dd857bbe0"
      },
      "source": [
        "!pip show tensorflow"
      ],
      "execution_count": null,
      "outputs": [
        {
          "output_type": "stream",
          "text": [
            "Name: tensorflow\n",
            "Version: 2.3.0\n",
            "Summary: TensorFlow is an open source machine learning framework for everyone.\n",
            "Home-page: https://www.tensorflow.org/\n",
            "Author: Google Inc.\n",
            "Author-email: packages@tensorflow.org\n",
            "License: Apache 2.0\n",
            "Location: /usr/local/lib/python3.6/dist-packages\n",
            "Requires: scipy, google-pasta, wrapt, grpcio, tensorflow-estimator, absl-py, keras-preprocessing, termcolor, wheel, opt-einsum, protobuf, astunparse, h5py, gast, numpy, six, tensorboard\n",
            "Required-by: fancyimpute\n"
          ],
          "name": "stdout"
        }
      ]
    },
    {
      "cell_type": "code",
      "metadata": {
        "id": "jlP5Yk7h8ssw"
      },
      "source": [
        "!pip freeze > requirements.txt"
      ],
      "execution_count": null,
      "outputs": []
    }
  ]
}