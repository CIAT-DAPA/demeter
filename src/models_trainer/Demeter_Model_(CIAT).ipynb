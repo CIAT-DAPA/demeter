{
  "nbformat": 4,
  "nbformat_minor": 0,
  "metadata": {
    "colab": {
      "name": "Demeter - Model (CIAT).ipynb",
      "provenance": [],
      "collapsed_sections": []
    },
    "kernelspec": {
      "name": "python3",
      "display_name": "Python 3"
    },
    "language_info": {
      "name": "python"
    },
    "accelerator": "GPU",
    "widgets": {
      "application/vnd.jupyter.widget-state+json": {
        "f2370d9ee6de4a2b901c9c4f414ff625": {
          "model_module": "@jupyter-widgets/controls",
          "model_name": "HBoxModel",
          "model_module_version": "1.5.0",
          "state": {
            "_view_name": "HBoxView",
            "_dom_classes": [],
            "_model_name": "HBoxModel",
            "_view_module": "@jupyter-widgets/controls",
            "_model_module_version": "1.5.0",
            "_view_count": null,
            "_view_module_version": "1.5.0",
            "box_style": "",
            "layout": "IPY_MODEL_e832e52c4e6341379d2af5f9db97d8b6",
            "_model_module": "@jupyter-widgets/controls",
            "children": [
              "IPY_MODEL_b6fa5e60b46c48bf91e7228992f3eefa",
              "IPY_MODEL_b181e229b84e48e796b6bb17bbe541b2",
              "IPY_MODEL_47afc8fb0cf8451691ee620d59397c0e"
            ]
          }
        },
        "e832e52c4e6341379d2af5f9db97d8b6": {
          "model_module": "@jupyter-widgets/base",
          "model_name": "LayoutModel",
          "model_module_version": "1.2.0",
          "state": {
            "_view_name": "LayoutView",
            "grid_template_rows": null,
            "right": null,
            "justify_content": null,
            "_view_module": "@jupyter-widgets/base",
            "overflow": null,
            "_model_module_version": "1.2.0",
            "_view_count": null,
            "flex_flow": null,
            "width": null,
            "min_width": null,
            "border": null,
            "align_items": null,
            "bottom": null,
            "_model_module": "@jupyter-widgets/base",
            "top": null,
            "grid_column": null,
            "overflow_y": null,
            "overflow_x": null,
            "grid_auto_flow": null,
            "grid_area": null,
            "grid_template_columns": null,
            "flex": null,
            "_model_name": "LayoutModel",
            "justify_items": null,
            "grid_row": null,
            "max_height": null,
            "align_content": null,
            "visibility": null,
            "align_self": null,
            "height": null,
            "min_height": null,
            "padding": null,
            "grid_auto_rows": null,
            "grid_gap": null,
            "max_width": null,
            "order": null,
            "_view_module_version": "1.2.0",
            "grid_template_areas": null,
            "object_position": null,
            "object_fit": null,
            "grid_auto_columns": null,
            "margin": null,
            "display": null,
            "left": null
          }
        },
        "b6fa5e60b46c48bf91e7228992f3eefa": {
          "model_module": "@jupyter-widgets/controls",
          "model_name": "HTMLModel",
          "model_module_version": "1.5.0",
          "state": {
            "_view_name": "HTMLView",
            "style": "IPY_MODEL_a7419971d91c4e0db61b1cef245f65e5",
            "_dom_classes": [],
            "description": "",
            "_model_name": "HTMLModel",
            "placeholder": "​",
            "_view_module": "@jupyter-widgets/controls",
            "_model_module_version": "1.5.0",
            "value": "Downloading: 100%",
            "_view_count": null,
            "_view_module_version": "1.5.0",
            "description_tooltip": null,
            "_model_module": "@jupyter-widgets/controls",
            "layout": "IPY_MODEL_da5727a58ab64d658b6900ffb05d61d1"
          }
        },
        "b181e229b84e48e796b6bb17bbe541b2": {
          "model_module": "@jupyter-widgets/controls",
          "model_name": "FloatProgressModel",
          "model_module_version": "1.5.0",
          "state": {
            "_view_name": "ProgressView",
            "style": "IPY_MODEL_43591493fb6340be823bae7df0401cb6",
            "_dom_classes": [],
            "description": "",
            "_model_name": "FloatProgressModel",
            "bar_style": "success",
            "max": 995526,
            "_view_module": "@jupyter-widgets/controls",
            "_model_module_version": "1.5.0",
            "value": 995526,
            "_view_count": null,
            "_view_module_version": "1.5.0",
            "orientation": "horizontal",
            "min": 0,
            "description_tooltip": null,
            "_model_module": "@jupyter-widgets/controls",
            "layout": "IPY_MODEL_f77ffaef6cdc44ba91b3abf7c6ed6e4a"
          }
        },
        "47afc8fb0cf8451691ee620d59397c0e": {
          "model_module": "@jupyter-widgets/controls",
          "model_name": "HTMLModel",
          "model_module_version": "1.5.0",
          "state": {
            "_view_name": "HTMLView",
            "style": "IPY_MODEL_23e2c3972382443e84d13d8e7ba72140",
            "_dom_classes": [],
            "description": "",
            "_model_name": "HTMLModel",
            "placeholder": "​",
            "_view_module": "@jupyter-widgets/controls",
            "_model_module_version": "1.5.0",
            "value": " 972k/972k [00:00&lt;00:00, 1.33MB/s]",
            "_view_count": null,
            "_view_module_version": "1.5.0",
            "description_tooltip": null,
            "_model_module": "@jupyter-widgets/controls",
            "layout": "IPY_MODEL_4850c4ec18f5401baead005c46b3bb44"
          }
        },
        "a7419971d91c4e0db61b1cef245f65e5": {
          "model_module": "@jupyter-widgets/controls",
          "model_name": "DescriptionStyleModel",
          "model_module_version": "1.5.0",
          "state": {
            "_view_name": "StyleView",
            "_model_name": "DescriptionStyleModel",
            "description_width": "",
            "_view_module": "@jupyter-widgets/base",
            "_model_module_version": "1.5.0",
            "_view_count": null,
            "_view_module_version": "1.2.0",
            "_model_module": "@jupyter-widgets/controls"
          }
        },
        "da5727a58ab64d658b6900ffb05d61d1": {
          "model_module": "@jupyter-widgets/base",
          "model_name": "LayoutModel",
          "model_module_version": "1.2.0",
          "state": {
            "_view_name": "LayoutView",
            "grid_template_rows": null,
            "right": null,
            "justify_content": null,
            "_view_module": "@jupyter-widgets/base",
            "overflow": null,
            "_model_module_version": "1.2.0",
            "_view_count": null,
            "flex_flow": null,
            "width": null,
            "min_width": null,
            "border": null,
            "align_items": null,
            "bottom": null,
            "_model_module": "@jupyter-widgets/base",
            "top": null,
            "grid_column": null,
            "overflow_y": null,
            "overflow_x": null,
            "grid_auto_flow": null,
            "grid_area": null,
            "grid_template_columns": null,
            "flex": null,
            "_model_name": "LayoutModel",
            "justify_items": null,
            "grid_row": null,
            "max_height": null,
            "align_content": null,
            "visibility": null,
            "align_self": null,
            "height": null,
            "min_height": null,
            "padding": null,
            "grid_auto_rows": null,
            "grid_gap": null,
            "max_width": null,
            "order": null,
            "_view_module_version": "1.2.0",
            "grid_template_areas": null,
            "object_position": null,
            "object_fit": null,
            "grid_auto_columns": null,
            "margin": null,
            "display": null,
            "left": null
          }
        },
        "43591493fb6340be823bae7df0401cb6": {
          "model_module": "@jupyter-widgets/controls",
          "model_name": "ProgressStyleModel",
          "model_module_version": "1.5.0",
          "state": {
            "_view_name": "StyleView",
            "_model_name": "ProgressStyleModel",
            "description_width": "",
            "_view_module": "@jupyter-widgets/base",
            "_model_module_version": "1.5.0",
            "_view_count": null,
            "_view_module_version": "1.2.0",
            "bar_color": null,
            "_model_module": "@jupyter-widgets/controls"
          }
        },
        "f77ffaef6cdc44ba91b3abf7c6ed6e4a": {
          "model_module": "@jupyter-widgets/base",
          "model_name": "LayoutModel",
          "model_module_version": "1.2.0",
          "state": {
            "_view_name": "LayoutView",
            "grid_template_rows": null,
            "right": null,
            "justify_content": null,
            "_view_module": "@jupyter-widgets/base",
            "overflow": null,
            "_model_module_version": "1.2.0",
            "_view_count": null,
            "flex_flow": null,
            "width": null,
            "min_width": null,
            "border": null,
            "align_items": null,
            "bottom": null,
            "_model_module": "@jupyter-widgets/base",
            "top": null,
            "grid_column": null,
            "overflow_y": null,
            "overflow_x": null,
            "grid_auto_flow": null,
            "grid_area": null,
            "grid_template_columns": null,
            "flex": null,
            "_model_name": "LayoutModel",
            "justify_items": null,
            "grid_row": null,
            "max_height": null,
            "align_content": null,
            "visibility": null,
            "align_self": null,
            "height": null,
            "min_height": null,
            "padding": null,
            "grid_auto_rows": null,
            "grid_gap": null,
            "max_width": null,
            "order": null,
            "_view_module_version": "1.2.0",
            "grid_template_areas": null,
            "object_position": null,
            "object_fit": null,
            "grid_auto_columns": null,
            "margin": null,
            "display": null,
            "left": null
          }
        },
        "23e2c3972382443e84d13d8e7ba72140": {
          "model_module": "@jupyter-widgets/controls",
          "model_name": "DescriptionStyleModel",
          "model_module_version": "1.5.0",
          "state": {
            "_view_name": "StyleView",
            "_model_name": "DescriptionStyleModel",
            "description_width": "",
            "_view_module": "@jupyter-widgets/base",
            "_model_module_version": "1.5.0",
            "_view_count": null,
            "_view_module_version": "1.2.0",
            "_model_module": "@jupyter-widgets/controls"
          }
        },
        "4850c4ec18f5401baead005c46b3bb44": {
          "model_module": "@jupyter-widgets/base",
          "model_name": "LayoutModel",
          "model_module_version": "1.2.0",
          "state": {
            "_view_name": "LayoutView",
            "grid_template_rows": null,
            "right": null,
            "justify_content": null,
            "_view_module": "@jupyter-widgets/base",
            "overflow": null,
            "_model_module_version": "1.2.0",
            "_view_count": null,
            "flex_flow": null,
            "width": null,
            "min_width": null,
            "border": null,
            "align_items": null,
            "bottom": null,
            "_model_module": "@jupyter-widgets/base",
            "top": null,
            "grid_column": null,
            "overflow_y": null,
            "overflow_x": null,
            "grid_auto_flow": null,
            "grid_area": null,
            "grid_template_columns": null,
            "flex": null,
            "_model_name": "LayoutModel",
            "justify_items": null,
            "grid_row": null,
            "max_height": null,
            "align_content": null,
            "visibility": null,
            "align_self": null,
            "height": null,
            "min_height": null,
            "padding": null,
            "grid_auto_rows": null,
            "grid_gap": null,
            "max_width": null,
            "order": null,
            "_view_module_version": "1.2.0",
            "grid_template_areas": null,
            "object_position": null,
            "object_fit": null,
            "grid_auto_columns": null,
            "margin": null,
            "display": null,
            "left": null
          }
        },
        "32382488d14c449aa46e6e0039c2704a": {
          "model_module": "@jupyter-widgets/controls",
          "model_name": "HBoxModel",
          "model_module_version": "1.5.0",
          "state": {
            "_view_name": "HBoxView",
            "_dom_classes": [],
            "_model_name": "HBoxModel",
            "_view_module": "@jupyter-widgets/controls",
            "_model_module_version": "1.5.0",
            "_view_count": null,
            "_view_module_version": "1.5.0",
            "box_style": "",
            "layout": "IPY_MODEL_de7ceb14282e4d7f9a50b7669a806d0b",
            "_model_module": "@jupyter-widgets/controls",
            "children": [
              "IPY_MODEL_7dfd65bfa9524437930ad3363a4eec4c",
              "IPY_MODEL_6d7d62c15df54d089aaf1bd858e6218f",
              "IPY_MODEL_f1118631bf6a4d688019cc5d512db5b9"
            ]
          }
        },
        "de7ceb14282e4d7f9a50b7669a806d0b": {
          "model_module": "@jupyter-widgets/base",
          "model_name": "LayoutModel",
          "model_module_version": "1.2.0",
          "state": {
            "_view_name": "LayoutView",
            "grid_template_rows": null,
            "right": null,
            "justify_content": null,
            "_view_module": "@jupyter-widgets/base",
            "overflow": null,
            "_model_module_version": "1.2.0",
            "_view_count": null,
            "flex_flow": null,
            "width": null,
            "min_width": null,
            "border": null,
            "align_items": null,
            "bottom": null,
            "_model_module": "@jupyter-widgets/base",
            "top": null,
            "grid_column": null,
            "overflow_y": null,
            "overflow_x": null,
            "grid_auto_flow": null,
            "grid_area": null,
            "grid_template_columns": null,
            "flex": null,
            "_model_name": "LayoutModel",
            "justify_items": null,
            "grid_row": null,
            "max_height": null,
            "align_content": null,
            "visibility": null,
            "align_self": null,
            "height": null,
            "min_height": null,
            "padding": null,
            "grid_auto_rows": null,
            "grid_gap": null,
            "max_width": null,
            "order": null,
            "_view_module_version": "1.2.0",
            "grid_template_areas": null,
            "object_position": null,
            "object_fit": null,
            "grid_auto_columns": null,
            "margin": null,
            "display": null,
            "left": null
          }
        },
        "7dfd65bfa9524437930ad3363a4eec4c": {
          "model_module": "@jupyter-widgets/controls",
          "model_name": "HTMLModel",
          "model_module_version": "1.5.0",
          "state": {
            "_view_name": "HTMLView",
            "style": "IPY_MODEL_e449a1bce465499ab49627059461b62c",
            "_dom_classes": [],
            "description": "",
            "_model_name": "HTMLModel",
            "placeholder": "​",
            "_view_module": "@jupyter-widgets/controls",
            "_model_module_version": "1.5.0",
            "value": "Downloading: 100%",
            "_view_count": null,
            "_view_module_version": "1.5.0",
            "description_tooltip": null,
            "_model_module": "@jupyter-widgets/controls",
            "layout": "IPY_MODEL_3aa9ef65f3db4604bb398bd1f1ed9094"
          }
        },
        "6d7d62c15df54d089aaf1bd858e6218f": {
          "model_module": "@jupyter-widgets/controls",
          "model_name": "FloatProgressModel",
          "model_module_version": "1.5.0",
          "state": {
            "_view_name": "ProgressView",
            "style": "IPY_MODEL_9f38bf47eeba465a993366d2b3909465",
            "_dom_classes": [],
            "description": "",
            "_model_name": "FloatProgressModel",
            "bar_style": "success",
            "max": 29,
            "_view_module": "@jupyter-widgets/controls",
            "_model_module_version": "1.5.0",
            "value": 29,
            "_view_count": null,
            "_view_module_version": "1.5.0",
            "orientation": "horizontal",
            "min": 0,
            "description_tooltip": null,
            "_model_module": "@jupyter-widgets/controls",
            "layout": "IPY_MODEL_d8f1a700b64c4ad0869a74db094c8b6b"
          }
        },
        "f1118631bf6a4d688019cc5d512db5b9": {
          "model_module": "@jupyter-widgets/controls",
          "model_name": "HTMLModel",
          "model_module_version": "1.5.0",
          "state": {
            "_view_name": "HTMLView",
            "style": "IPY_MODEL_6be0db15eb6d419f858dd61a3ea43d6f",
            "_dom_classes": [],
            "description": "",
            "_model_name": "HTMLModel",
            "placeholder": "​",
            "_view_module": "@jupyter-widgets/controls",
            "_model_module_version": "1.5.0",
            "value": " 29.0/29.0 [00:00&lt;00:00, 663B/s]",
            "_view_count": null,
            "_view_module_version": "1.5.0",
            "description_tooltip": null,
            "_model_module": "@jupyter-widgets/controls",
            "layout": "IPY_MODEL_9a85e941da394b5d8eacf5be521309ce"
          }
        },
        "e449a1bce465499ab49627059461b62c": {
          "model_module": "@jupyter-widgets/controls",
          "model_name": "DescriptionStyleModel",
          "model_module_version": "1.5.0",
          "state": {
            "_view_name": "StyleView",
            "_model_name": "DescriptionStyleModel",
            "description_width": "",
            "_view_module": "@jupyter-widgets/base",
            "_model_module_version": "1.5.0",
            "_view_count": null,
            "_view_module_version": "1.2.0",
            "_model_module": "@jupyter-widgets/controls"
          }
        },
        "3aa9ef65f3db4604bb398bd1f1ed9094": {
          "model_module": "@jupyter-widgets/base",
          "model_name": "LayoutModel",
          "model_module_version": "1.2.0",
          "state": {
            "_view_name": "LayoutView",
            "grid_template_rows": null,
            "right": null,
            "justify_content": null,
            "_view_module": "@jupyter-widgets/base",
            "overflow": null,
            "_model_module_version": "1.2.0",
            "_view_count": null,
            "flex_flow": null,
            "width": null,
            "min_width": null,
            "border": null,
            "align_items": null,
            "bottom": null,
            "_model_module": "@jupyter-widgets/base",
            "top": null,
            "grid_column": null,
            "overflow_y": null,
            "overflow_x": null,
            "grid_auto_flow": null,
            "grid_area": null,
            "grid_template_columns": null,
            "flex": null,
            "_model_name": "LayoutModel",
            "justify_items": null,
            "grid_row": null,
            "max_height": null,
            "align_content": null,
            "visibility": null,
            "align_self": null,
            "height": null,
            "min_height": null,
            "padding": null,
            "grid_auto_rows": null,
            "grid_gap": null,
            "max_width": null,
            "order": null,
            "_view_module_version": "1.2.0",
            "grid_template_areas": null,
            "object_position": null,
            "object_fit": null,
            "grid_auto_columns": null,
            "margin": null,
            "display": null,
            "left": null
          }
        },
        "9f38bf47eeba465a993366d2b3909465": {
          "model_module": "@jupyter-widgets/controls",
          "model_name": "ProgressStyleModel",
          "model_module_version": "1.5.0",
          "state": {
            "_view_name": "StyleView",
            "_model_name": "ProgressStyleModel",
            "description_width": "",
            "_view_module": "@jupyter-widgets/base",
            "_model_module_version": "1.5.0",
            "_view_count": null,
            "_view_module_version": "1.2.0",
            "bar_color": null,
            "_model_module": "@jupyter-widgets/controls"
          }
        },
        "d8f1a700b64c4ad0869a74db094c8b6b": {
          "model_module": "@jupyter-widgets/base",
          "model_name": "LayoutModel",
          "model_module_version": "1.2.0",
          "state": {
            "_view_name": "LayoutView",
            "grid_template_rows": null,
            "right": null,
            "justify_content": null,
            "_view_module": "@jupyter-widgets/base",
            "overflow": null,
            "_model_module_version": "1.2.0",
            "_view_count": null,
            "flex_flow": null,
            "width": null,
            "min_width": null,
            "border": null,
            "align_items": null,
            "bottom": null,
            "_model_module": "@jupyter-widgets/base",
            "top": null,
            "grid_column": null,
            "overflow_y": null,
            "overflow_x": null,
            "grid_auto_flow": null,
            "grid_area": null,
            "grid_template_columns": null,
            "flex": null,
            "_model_name": "LayoutModel",
            "justify_items": null,
            "grid_row": null,
            "max_height": null,
            "align_content": null,
            "visibility": null,
            "align_self": null,
            "height": null,
            "min_height": null,
            "padding": null,
            "grid_auto_rows": null,
            "grid_gap": null,
            "max_width": null,
            "order": null,
            "_view_module_version": "1.2.0",
            "grid_template_areas": null,
            "object_position": null,
            "object_fit": null,
            "grid_auto_columns": null,
            "margin": null,
            "display": null,
            "left": null
          }
        },
        "6be0db15eb6d419f858dd61a3ea43d6f": {
          "model_module": "@jupyter-widgets/controls",
          "model_name": "DescriptionStyleModel",
          "model_module_version": "1.5.0",
          "state": {
            "_view_name": "StyleView",
            "_model_name": "DescriptionStyleModel",
            "description_width": "",
            "_view_module": "@jupyter-widgets/base",
            "_model_module_version": "1.5.0",
            "_view_count": null,
            "_view_module_version": "1.2.0",
            "_model_module": "@jupyter-widgets/controls"
          }
        },
        "9a85e941da394b5d8eacf5be521309ce": {
          "model_module": "@jupyter-widgets/base",
          "model_name": "LayoutModel",
          "model_module_version": "1.2.0",
          "state": {
            "_view_name": "LayoutView",
            "grid_template_rows": null,
            "right": null,
            "justify_content": null,
            "_view_module": "@jupyter-widgets/base",
            "overflow": null,
            "_model_module_version": "1.2.0",
            "_view_count": null,
            "flex_flow": null,
            "width": null,
            "min_width": null,
            "border": null,
            "align_items": null,
            "bottom": null,
            "_model_module": "@jupyter-widgets/base",
            "top": null,
            "grid_column": null,
            "overflow_y": null,
            "overflow_x": null,
            "grid_auto_flow": null,
            "grid_area": null,
            "grid_template_columns": null,
            "flex": null,
            "_model_name": "LayoutModel",
            "justify_items": null,
            "grid_row": null,
            "max_height": null,
            "align_content": null,
            "visibility": null,
            "align_self": null,
            "height": null,
            "min_height": null,
            "padding": null,
            "grid_auto_rows": null,
            "grid_gap": null,
            "max_width": null,
            "order": null,
            "_view_module_version": "1.2.0",
            "grid_template_areas": null,
            "object_position": null,
            "object_fit": null,
            "grid_auto_columns": null,
            "margin": null,
            "display": null,
            "left": null
          }
        },
        "d2cd41a55d3648648ca469bcd175d1a2": {
          "model_module": "@jupyter-widgets/controls",
          "model_name": "HBoxModel",
          "model_module_version": "1.5.0",
          "state": {
            "_view_name": "HBoxView",
            "_dom_classes": [],
            "_model_name": "HBoxModel",
            "_view_module": "@jupyter-widgets/controls",
            "_model_module_version": "1.5.0",
            "_view_count": null,
            "_view_module_version": "1.5.0",
            "box_style": "",
            "layout": "IPY_MODEL_96636fe2672744628b4f3461cae5331d",
            "_model_module": "@jupyter-widgets/controls",
            "children": [
              "IPY_MODEL_cada63b7e0bf462385dc32ff9fdc44ec",
              "IPY_MODEL_0f9d2db076c44e9eb7b8417fcf049ea2",
              "IPY_MODEL_7735e4387237415f9a1feae8cf6223fb"
            ]
          }
        },
        "96636fe2672744628b4f3461cae5331d": {
          "model_module": "@jupyter-widgets/base",
          "model_name": "LayoutModel",
          "model_module_version": "1.2.0",
          "state": {
            "_view_name": "LayoutView",
            "grid_template_rows": null,
            "right": null,
            "justify_content": null,
            "_view_module": "@jupyter-widgets/base",
            "overflow": null,
            "_model_module_version": "1.2.0",
            "_view_count": null,
            "flex_flow": null,
            "width": null,
            "min_width": null,
            "border": null,
            "align_items": null,
            "bottom": null,
            "_model_module": "@jupyter-widgets/base",
            "top": null,
            "grid_column": null,
            "overflow_y": null,
            "overflow_x": null,
            "grid_auto_flow": null,
            "grid_area": null,
            "grid_template_columns": null,
            "flex": null,
            "_model_name": "LayoutModel",
            "justify_items": null,
            "grid_row": null,
            "max_height": null,
            "align_content": null,
            "visibility": null,
            "align_self": null,
            "height": null,
            "min_height": null,
            "padding": null,
            "grid_auto_rows": null,
            "grid_gap": null,
            "max_width": null,
            "order": null,
            "_view_module_version": "1.2.0",
            "grid_template_areas": null,
            "object_position": null,
            "object_fit": null,
            "grid_auto_columns": null,
            "margin": null,
            "display": null,
            "left": null
          }
        },
        "cada63b7e0bf462385dc32ff9fdc44ec": {
          "model_module": "@jupyter-widgets/controls",
          "model_name": "HTMLModel",
          "model_module_version": "1.5.0",
          "state": {
            "_view_name": "HTMLView",
            "style": "IPY_MODEL_4d9f62c7e816476397bbd2b72f52c596",
            "_dom_classes": [],
            "description": "",
            "_model_name": "HTMLModel",
            "placeholder": "​",
            "_view_module": "@jupyter-widgets/controls",
            "_model_module_version": "1.5.0",
            "value": "Downloading: 100%",
            "_view_count": null,
            "_view_module_version": "1.5.0",
            "description_tooltip": null,
            "_model_module": "@jupyter-widgets/controls",
            "layout": "IPY_MODEL_0502aaaa1a1c491a823a4d928206372d"
          }
        },
        "0f9d2db076c44e9eb7b8417fcf049ea2": {
          "model_module": "@jupyter-widgets/controls",
          "model_name": "FloatProgressModel",
          "model_module_version": "1.5.0",
          "state": {
            "_view_name": "ProgressView",
            "style": "IPY_MODEL_be7099adc85c47e499fe44891ba8f046",
            "_dom_classes": [],
            "description": "",
            "_model_name": "FloatProgressModel",
            "bar_style": "success",
            "max": 1961828,
            "_view_module": "@jupyter-widgets/controls",
            "_model_module_version": "1.5.0",
            "value": 1961828,
            "_view_count": null,
            "_view_module_version": "1.5.0",
            "orientation": "horizontal",
            "min": 0,
            "description_tooltip": null,
            "_model_module": "@jupyter-widgets/controls",
            "layout": "IPY_MODEL_64c647075bde40aea7e8b89ff16d711a"
          }
        },
        "7735e4387237415f9a1feae8cf6223fb": {
          "model_module": "@jupyter-widgets/controls",
          "model_name": "HTMLModel",
          "model_module_version": "1.5.0",
          "state": {
            "_view_name": "HTMLView",
            "style": "IPY_MODEL_54eb2701baf648759b2f6ca7eb96e80b",
            "_dom_classes": [],
            "description": "",
            "_model_name": "HTMLModel",
            "placeholder": "​",
            "_view_module": "@jupyter-widgets/controls",
            "_model_module_version": "1.5.0",
            "value": " 1.87M/1.87M [00:00&lt;00:00, 2.53MB/s]",
            "_view_count": null,
            "_view_module_version": "1.5.0",
            "description_tooltip": null,
            "_model_module": "@jupyter-widgets/controls",
            "layout": "IPY_MODEL_6af2301564e54b109d3c70c37f08fa5a"
          }
        },
        "4d9f62c7e816476397bbd2b72f52c596": {
          "model_module": "@jupyter-widgets/controls",
          "model_name": "DescriptionStyleModel",
          "model_module_version": "1.5.0",
          "state": {
            "_view_name": "StyleView",
            "_model_name": "DescriptionStyleModel",
            "description_width": "",
            "_view_module": "@jupyter-widgets/base",
            "_model_module_version": "1.5.0",
            "_view_count": null,
            "_view_module_version": "1.2.0",
            "_model_module": "@jupyter-widgets/controls"
          }
        },
        "0502aaaa1a1c491a823a4d928206372d": {
          "model_module": "@jupyter-widgets/base",
          "model_name": "LayoutModel",
          "model_module_version": "1.2.0",
          "state": {
            "_view_name": "LayoutView",
            "grid_template_rows": null,
            "right": null,
            "justify_content": null,
            "_view_module": "@jupyter-widgets/base",
            "overflow": null,
            "_model_module_version": "1.2.0",
            "_view_count": null,
            "flex_flow": null,
            "width": null,
            "min_width": null,
            "border": null,
            "align_items": null,
            "bottom": null,
            "_model_module": "@jupyter-widgets/base",
            "top": null,
            "grid_column": null,
            "overflow_y": null,
            "overflow_x": null,
            "grid_auto_flow": null,
            "grid_area": null,
            "grid_template_columns": null,
            "flex": null,
            "_model_name": "LayoutModel",
            "justify_items": null,
            "grid_row": null,
            "max_height": null,
            "align_content": null,
            "visibility": null,
            "align_self": null,
            "height": null,
            "min_height": null,
            "padding": null,
            "grid_auto_rows": null,
            "grid_gap": null,
            "max_width": null,
            "order": null,
            "_view_module_version": "1.2.0",
            "grid_template_areas": null,
            "object_position": null,
            "object_fit": null,
            "grid_auto_columns": null,
            "margin": null,
            "display": null,
            "left": null
          }
        },
        "be7099adc85c47e499fe44891ba8f046": {
          "model_module": "@jupyter-widgets/controls",
          "model_name": "ProgressStyleModel",
          "model_module_version": "1.5.0",
          "state": {
            "_view_name": "StyleView",
            "_model_name": "ProgressStyleModel",
            "description_width": "",
            "_view_module": "@jupyter-widgets/base",
            "_model_module_version": "1.5.0",
            "_view_count": null,
            "_view_module_version": "1.2.0",
            "bar_color": null,
            "_model_module": "@jupyter-widgets/controls"
          }
        },
        "64c647075bde40aea7e8b89ff16d711a": {
          "model_module": "@jupyter-widgets/base",
          "model_name": "LayoutModel",
          "model_module_version": "1.2.0",
          "state": {
            "_view_name": "LayoutView",
            "grid_template_rows": null,
            "right": null,
            "justify_content": null,
            "_view_module": "@jupyter-widgets/base",
            "overflow": null,
            "_model_module_version": "1.2.0",
            "_view_count": null,
            "flex_flow": null,
            "width": null,
            "min_width": null,
            "border": null,
            "align_items": null,
            "bottom": null,
            "_model_module": "@jupyter-widgets/base",
            "top": null,
            "grid_column": null,
            "overflow_y": null,
            "overflow_x": null,
            "grid_auto_flow": null,
            "grid_area": null,
            "grid_template_columns": null,
            "flex": null,
            "_model_name": "LayoutModel",
            "justify_items": null,
            "grid_row": null,
            "max_height": null,
            "align_content": null,
            "visibility": null,
            "align_self": null,
            "height": null,
            "min_height": null,
            "padding": null,
            "grid_auto_rows": null,
            "grid_gap": null,
            "max_width": null,
            "order": null,
            "_view_module_version": "1.2.0",
            "grid_template_areas": null,
            "object_position": null,
            "object_fit": null,
            "grid_auto_columns": null,
            "margin": null,
            "display": null,
            "left": null
          }
        },
        "54eb2701baf648759b2f6ca7eb96e80b": {
          "model_module": "@jupyter-widgets/controls",
          "model_name": "DescriptionStyleModel",
          "model_module_version": "1.5.0",
          "state": {
            "_view_name": "StyleView",
            "_model_name": "DescriptionStyleModel",
            "description_width": "",
            "_view_module": "@jupyter-widgets/base",
            "_model_module_version": "1.5.0",
            "_view_count": null,
            "_view_module_version": "1.2.0",
            "_model_module": "@jupyter-widgets/controls"
          }
        },
        "6af2301564e54b109d3c70c37f08fa5a": {
          "model_module": "@jupyter-widgets/base",
          "model_name": "LayoutModel",
          "model_module_version": "1.2.0",
          "state": {
            "_view_name": "LayoutView",
            "grid_template_rows": null,
            "right": null,
            "justify_content": null,
            "_view_module": "@jupyter-widgets/base",
            "overflow": null,
            "_model_module_version": "1.2.0",
            "_view_count": null,
            "flex_flow": null,
            "width": null,
            "min_width": null,
            "border": null,
            "align_items": null,
            "bottom": null,
            "_model_module": "@jupyter-widgets/base",
            "top": null,
            "grid_column": null,
            "overflow_y": null,
            "overflow_x": null,
            "grid_auto_flow": null,
            "grid_area": null,
            "grid_template_columns": null,
            "flex": null,
            "_model_name": "LayoutModel",
            "justify_items": null,
            "grid_row": null,
            "max_height": null,
            "align_content": null,
            "visibility": null,
            "align_self": null,
            "height": null,
            "min_height": null,
            "padding": null,
            "grid_auto_rows": null,
            "grid_gap": null,
            "max_width": null,
            "order": null,
            "_view_module_version": "1.2.0",
            "grid_template_areas": null,
            "object_position": null,
            "object_fit": null,
            "grid_auto_columns": null,
            "margin": null,
            "display": null,
            "left": null
          }
        },
        "6ddbc3bd20f54f1098a73fb6eab471e6": {
          "model_module": "@jupyter-widgets/controls",
          "model_name": "HBoxModel",
          "model_module_version": "1.5.0",
          "state": {
            "_view_name": "HBoxView",
            "_dom_classes": [],
            "_model_name": "HBoxModel",
            "_view_module": "@jupyter-widgets/controls",
            "_model_module_version": "1.5.0",
            "_view_count": null,
            "_view_module_version": "1.5.0",
            "box_style": "",
            "layout": "IPY_MODEL_9de0c00041ca4c199e75d898a2a64029",
            "_model_module": "@jupyter-widgets/controls",
            "children": [
              "IPY_MODEL_ab063b1d0a1d4120a92bb57056cadf4f",
              "IPY_MODEL_2840537ab10541aa891bdd462f505214",
              "IPY_MODEL_7a5fddaf444a45a0be24766bb1ee5bff"
            ]
          }
        },
        "9de0c00041ca4c199e75d898a2a64029": {
          "model_module": "@jupyter-widgets/base",
          "model_name": "LayoutModel",
          "model_module_version": "1.2.0",
          "state": {
            "_view_name": "LayoutView",
            "grid_template_rows": null,
            "right": null,
            "justify_content": null,
            "_view_module": "@jupyter-widgets/base",
            "overflow": null,
            "_model_module_version": "1.2.0",
            "_view_count": null,
            "flex_flow": null,
            "width": null,
            "min_width": null,
            "border": null,
            "align_items": null,
            "bottom": null,
            "_model_module": "@jupyter-widgets/base",
            "top": null,
            "grid_column": null,
            "overflow_y": null,
            "overflow_x": null,
            "grid_auto_flow": null,
            "grid_area": null,
            "grid_template_columns": null,
            "flex": null,
            "_model_name": "LayoutModel",
            "justify_items": null,
            "grid_row": null,
            "max_height": null,
            "align_content": null,
            "visibility": null,
            "align_self": null,
            "height": null,
            "min_height": null,
            "padding": null,
            "grid_auto_rows": null,
            "grid_gap": null,
            "max_width": null,
            "order": null,
            "_view_module_version": "1.2.0",
            "grid_template_areas": null,
            "object_position": null,
            "object_fit": null,
            "grid_auto_columns": null,
            "margin": null,
            "display": null,
            "left": null
          }
        },
        "ab063b1d0a1d4120a92bb57056cadf4f": {
          "model_module": "@jupyter-widgets/controls",
          "model_name": "HTMLModel",
          "model_module_version": "1.5.0",
          "state": {
            "_view_name": "HTMLView",
            "style": "IPY_MODEL_87f4e1774b8a481eaaac3c3d2102c315",
            "_dom_classes": [],
            "description": "",
            "_model_name": "HTMLModel",
            "placeholder": "​",
            "_view_module": "@jupyter-widgets/controls",
            "_model_module_version": "1.5.0",
            "value": "Downloading: 100%",
            "_view_count": null,
            "_view_module_version": "1.5.0",
            "description_tooltip": null,
            "_model_module": "@jupyter-widgets/controls",
            "layout": "IPY_MODEL_927c4f9dbeef4dc5993b6b78e5320d66"
          }
        },
        "2840537ab10541aa891bdd462f505214": {
          "model_module": "@jupyter-widgets/controls",
          "model_name": "FloatProgressModel",
          "model_module_version": "1.5.0",
          "state": {
            "_view_name": "ProgressView",
            "style": "IPY_MODEL_00cbfc4901a243e588ba63073bb40ba7",
            "_dom_classes": [],
            "description": "",
            "_model_name": "FloatProgressModel",
            "bar_style": "success",
            "max": 625,
            "_view_module": "@jupyter-widgets/controls",
            "_model_module_version": "1.5.0",
            "value": 625,
            "_view_count": null,
            "_view_module_version": "1.5.0",
            "orientation": "horizontal",
            "min": 0,
            "description_tooltip": null,
            "_model_module": "@jupyter-widgets/controls",
            "layout": "IPY_MODEL_d06a36ffcc2540d5b44d8c8fcfa9cfa2"
          }
        },
        "7a5fddaf444a45a0be24766bb1ee5bff": {
          "model_module": "@jupyter-widgets/controls",
          "model_name": "HTMLModel",
          "model_module_version": "1.5.0",
          "state": {
            "_view_name": "HTMLView",
            "style": "IPY_MODEL_4400849291fd48e481e161a9bf052988",
            "_dom_classes": [],
            "description": "",
            "_model_name": "HTMLModel",
            "placeholder": "​",
            "_view_module": "@jupyter-widgets/controls",
            "_model_module_version": "1.5.0",
            "value": " 625/625 [00:00&lt;00:00, 17.4kB/s]",
            "_view_count": null,
            "_view_module_version": "1.5.0",
            "description_tooltip": null,
            "_model_module": "@jupyter-widgets/controls",
            "layout": "IPY_MODEL_0543acde3def48b883583122b605fd6d"
          }
        },
        "87f4e1774b8a481eaaac3c3d2102c315": {
          "model_module": "@jupyter-widgets/controls",
          "model_name": "DescriptionStyleModel",
          "model_module_version": "1.5.0",
          "state": {
            "_view_name": "StyleView",
            "_model_name": "DescriptionStyleModel",
            "description_width": "",
            "_view_module": "@jupyter-widgets/base",
            "_model_module_version": "1.5.0",
            "_view_count": null,
            "_view_module_version": "1.2.0",
            "_model_module": "@jupyter-widgets/controls"
          }
        },
        "927c4f9dbeef4dc5993b6b78e5320d66": {
          "model_module": "@jupyter-widgets/base",
          "model_name": "LayoutModel",
          "model_module_version": "1.2.0",
          "state": {
            "_view_name": "LayoutView",
            "grid_template_rows": null,
            "right": null,
            "justify_content": null,
            "_view_module": "@jupyter-widgets/base",
            "overflow": null,
            "_model_module_version": "1.2.0",
            "_view_count": null,
            "flex_flow": null,
            "width": null,
            "min_width": null,
            "border": null,
            "align_items": null,
            "bottom": null,
            "_model_module": "@jupyter-widgets/base",
            "top": null,
            "grid_column": null,
            "overflow_y": null,
            "overflow_x": null,
            "grid_auto_flow": null,
            "grid_area": null,
            "grid_template_columns": null,
            "flex": null,
            "_model_name": "LayoutModel",
            "justify_items": null,
            "grid_row": null,
            "max_height": null,
            "align_content": null,
            "visibility": null,
            "align_self": null,
            "height": null,
            "min_height": null,
            "padding": null,
            "grid_auto_rows": null,
            "grid_gap": null,
            "max_width": null,
            "order": null,
            "_view_module_version": "1.2.0",
            "grid_template_areas": null,
            "object_position": null,
            "object_fit": null,
            "grid_auto_columns": null,
            "margin": null,
            "display": null,
            "left": null
          }
        },
        "00cbfc4901a243e588ba63073bb40ba7": {
          "model_module": "@jupyter-widgets/controls",
          "model_name": "ProgressStyleModel",
          "model_module_version": "1.5.0",
          "state": {
            "_view_name": "StyleView",
            "_model_name": "ProgressStyleModel",
            "description_width": "",
            "_view_module": "@jupyter-widgets/base",
            "_model_module_version": "1.5.0",
            "_view_count": null,
            "_view_module_version": "1.2.0",
            "bar_color": null,
            "_model_module": "@jupyter-widgets/controls"
          }
        },
        "d06a36ffcc2540d5b44d8c8fcfa9cfa2": {
          "model_module": "@jupyter-widgets/base",
          "model_name": "LayoutModel",
          "model_module_version": "1.2.0",
          "state": {
            "_view_name": "LayoutView",
            "grid_template_rows": null,
            "right": null,
            "justify_content": null,
            "_view_module": "@jupyter-widgets/base",
            "overflow": null,
            "_model_module_version": "1.2.0",
            "_view_count": null,
            "flex_flow": null,
            "width": null,
            "min_width": null,
            "border": null,
            "align_items": null,
            "bottom": null,
            "_model_module": "@jupyter-widgets/base",
            "top": null,
            "grid_column": null,
            "overflow_y": null,
            "overflow_x": null,
            "grid_auto_flow": null,
            "grid_area": null,
            "grid_template_columns": null,
            "flex": null,
            "_model_name": "LayoutModel",
            "justify_items": null,
            "grid_row": null,
            "max_height": null,
            "align_content": null,
            "visibility": null,
            "align_self": null,
            "height": null,
            "min_height": null,
            "padding": null,
            "grid_auto_rows": null,
            "grid_gap": null,
            "max_width": null,
            "order": null,
            "_view_module_version": "1.2.0",
            "grid_template_areas": null,
            "object_position": null,
            "object_fit": null,
            "grid_auto_columns": null,
            "margin": null,
            "display": null,
            "left": null
          }
        },
        "4400849291fd48e481e161a9bf052988": {
          "model_module": "@jupyter-widgets/controls",
          "model_name": "DescriptionStyleModel",
          "model_module_version": "1.5.0",
          "state": {
            "_view_name": "StyleView",
            "_model_name": "DescriptionStyleModel",
            "description_width": "",
            "_view_module": "@jupyter-widgets/base",
            "_model_module_version": "1.5.0",
            "_view_count": null,
            "_view_module_version": "1.2.0",
            "_model_module": "@jupyter-widgets/controls"
          }
        },
        "0543acde3def48b883583122b605fd6d": {
          "model_module": "@jupyter-widgets/base",
          "model_name": "LayoutModel",
          "model_module_version": "1.2.0",
          "state": {
            "_view_name": "LayoutView",
            "grid_template_rows": null,
            "right": null,
            "justify_content": null,
            "_view_module": "@jupyter-widgets/base",
            "overflow": null,
            "_model_module_version": "1.2.0",
            "_view_count": null,
            "flex_flow": null,
            "width": null,
            "min_width": null,
            "border": null,
            "align_items": null,
            "bottom": null,
            "_model_module": "@jupyter-widgets/base",
            "top": null,
            "grid_column": null,
            "overflow_y": null,
            "overflow_x": null,
            "grid_auto_flow": null,
            "grid_area": null,
            "grid_template_columns": null,
            "flex": null,
            "_model_name": "LayoutModel",
            "justify_items": null,
            "grid_row": null,
            "max_height": null,
            "align_content": null,
            "visibility": null,
            "align_self": null,
            "height": null,
            "min_height": null,
            "padding": null,
            "grid_auto_rows": null,
            "grid_gap": null,
            "max_width": null,
            "order": null,
            "_view_module_version": "1.2.0",
            "grid_template_areas": null,
            "object_position": null,
            "object_fit": null,
            "grid_auto_columns": null,
            "margin": null,
            "display": null,
            "left": null
          }
        }
      }
    }
  },
  "cells": [
    {
      "cell_type": "markdown",
      "metadata": {
        "id": "zL31JwU9cqfP"
      },
      "source": [
        "# Requirements\n",
        "\n",
        "In this section all requirements and package are installed and imported"
      ]
    },
    {
      "cell_type": "code",
      "metadata": {
        "colab": {
          "base_uri": "https://localhost:8080/"
        },
        "id": "gTXb-OmUA-f4",
        "outputId": "25a88878-0014-41be-d7b2-88416eb7bc64"
      },
      "source": [
        "%tensorflow_version 2.x\n",
        "!nvidia-smi\n",
        "%pip install -q transformers\n",
        "%pip install -q seaborn"
      ],
      "execution_count": 1,
      "outputs": [
        {
          "output_type": "stream",
          "name": "stdout",
          "text": [
            "Tue Oct 26 19:54:58 2021       \n",
            "+-----------------------------------------------------------------------------+\n",
            "| NVIDIA-SMI 470.74       Driver Version: 460.32.03    CUDA Version: 11.2     |\n",
            "|-------------------------------+----------------------+----------------------+\n",
            "| GPU  Name        Persistence-M| Bus-Id        Disp.A | Volatile Uncorr. ECC |\n",
            "| Fan  Temp  Perf  Pwr:Usage/Cap|         Memory-Usage | GPU-Util  Compute M. |\n",
            "|                               |                      |               MIG M. |\n",
            "|===============================+======================+======================|\n",
            "|   0  Tesla K80           Off  | 00000000:00:04.0 Off |                    0 |\n",
            "| N/A   34C    P8    27W / 149W |      0MiB / 11441MiB |      0%      Default |\n",
            "|                               |                      |                  N/A |\n",
            "+-------------------------------+----------------------+----------------------+\n",
            "                                                                               \n",
            "+-----------------------------------------------------------------------------+\n",
            "| Processes:                                                                  |\n",
            "|  GPU   GI   CI        PID   Type   Process name                  GPU Memory |\n",
            "|        ID   ID                                                   Usage      |\n",
            "|=============================================================================|\n",
            "|  No running processes found                                                 |\n",
            "+-----------------------------------------------------------------------------+\n",
            "\u001b[K     |████████████████████████████████| 2.9 MB 11.3 MB/s \n",
            "\u001b[K     |████████████████████████████████| 56 kB 4.5 MB/s \n",
            "\u001b[K     |████████████████████████████████| 596 kB 49.4 MB/s \n",
            "\u001b[K     |████████████████████████████████| 3.3 MB 39.6 MB/s \n",
            "\u001b[K     |████████████████████████████████| 895 kB 38.8 MB/s \n",
            "\u001b[?25h"
          ]
        }
      ]
    },
    {
      "cell_type": "code",
      "metadata": {
        "id": "LBKDhvsHBJJL"
      },
      "source": [
        "import os\n",
        "import pandas as pd\n",
        "from transformers import BertTokenizer\n",
        "import matplotlib.pyplot as plt\n",
        "import numpy as np\n",
        "from transformers import TFBertModel\n",
        "import datetime\n",
        "\n",
        "import tensorflow as tf\n",
        "from tensorflow import keras\n",
        "from tensorflow.keras.layers import Dropout, Dense\n",
        "from tensorflow.keras.optimizers import Adam\n",
        "from tensorflow.keras.losses import SparseCategoricalCrossentropy\n",
        "from tensorflow.keras.metrics import SparseCategoricalAccuracy\n",
        "\n",
        "import seaborn as sns\n",
        "from sklearn.metrics import confusion_matrix, classification_report\n"
      ],
      "execution_count": 2,
      "outputs": []
    },
    {
      "cell_type": "code",
      "metadata": {
        "id": "1sdrzh0_V9rM"
      },
      "source": [
        "!pip freeze > requirements.txt"
      ],
      "execution_count": 3,
      "outputs": []
    },
    {
      "cell_type": "markdown",
      "metadata": {
        "id": "slRzos_ec32k"
      },
      "source": [
        "# Getting data\n",
        "Data is imported and fixed regarding to needs"
      ]
    },
    {
      "cell_type": "code",
      "metadata": {
        "id": "8n3eTm3EBhIe"
      },
      "source": [
        "# Method that remove special characters from columns\n",
        "# (dataframe) df: Dataframe which will be cleared\n",
        "# (string[]) cols: List of Columns' name\n",
        "def remove_characters(df, cols):  \n",
        "  df_tmp = df\n",
        "  for c in cols:\n",
        "    df_tmp[c] = df[c].str.replace(\"¿\",\"\")\n",
        "  return df_tmp\n",
        "\n",
        "\n",
        "def encode_dataset(tokenizer, text_sequences, max_length):\n",
        "    token_ids = np.zeros(shape=(len(text_sequences), max_length), dtype=np.int32)\n",
        "    for i, text_sequence in enumerate(text_sequences):\n",
        "        encoded = tokenizer.encode(text_sequence)\n",
        "        token_ids[i, 0:len(encoded)] = encoded\n",
        "    attention_masks = (token_ids != 0).astype(np.int32)\n",
        "    return {\"input_ids\": token_ids, \"attention_masks\": attention_masks}\n",
        "\n",
        "def encode_token_labels(text_sequences, slot_names, tokenizer, slot_map, max_length):\n",
        "    encoded = np.zeros(shape=(len(text_sequences), max_length), dtype=np.int32)\n",
        "    for i, (text_sequence, word_labels) in enumerate(zip(text_sequences, slot_names)):\n",
        "        encoded_labels = []\n",
        "        for word, word_label in zip(text_sequence.split(), word_labels.split()):\n",
        "            tokens = tokenizer.tokenize(word)\n",
        "            encoded_labels.append(slot_map[word_label])\n",
        "            expand_label = word_label.replace(\"B-\", \"I-\")\n",
        "            if not expand_label in slot_map:\n",
        "                expand_label = word_label\n",
        "            encoded_labels.extend([slot_map[expand_label]] * (len(tokens) - 1))\n",
        "        encoded[i, 1:len(encoded_labels) + 1] = encoded_labels\n",
        "    return encoded"
      ],
      "execution_count": 4,
      "outputs": []
    },
    {
      "cell_type": "code",
      "metadata": {
        "id": "4IwnJUTQDRlz",
        "colab": {
          "base_uri": "https://localhost:8080/",
          "height": 145,
          "referenced_widgets": [
            "f2370d9ee6de4a2b901c9c4f414ff625",
            "e832e52c4e6341379d2af5f9db97d8b6",
            "b6fa5e60b46c48bf91e7228992f3eefa",
            "b181e229b84e48e796b6bb17bbe541b2",
            "47afc8fb0cf8451691ee620d59397c0e",
            "a7419971d91c4e0db61b1cef245f65e5",
            "da5727a58ab64d658b6900ffb05d61d1",
            "43591493fb6340be823bae7df0401cb6",
            "f77ffaef6cdc44ba91b3abf7c6ed6e4a",
            "23e2c3972382443e84d13d8e7ba72140",
            "4850c4ec18f5401baead005c46b3bb44",
            "32382488d14c449aa46e6e0039c2704a",
            "de7ceb14282e4d7f9a50b7669a806d0b",
            "7dfd65bfa9524437930ad3363a4eec4c",
            "6d7d62c15df54d089aaf1bd858e6218f",
            "f1118631bf6a4d688019cc5d512db5b9",
            "e449a1bce465499ab49627059461b62c",
            "3aa9ef65f3db4604bb398bd1f1ed9094",
            "9f38bf47eeba465a993366d2b3909465",
            "d8f1a700b64c4ad0869a74db094c8b6b",
            "6be0db15eb6d419f858dd61a3ea43d6f",
            "9a85e941da394b5d8eacf5be521309ce",
            "d2cd41a55d3648648ca469bcd175d1a2",
            "96636fe2672744628b4f3461cae5331d",
            "cada63b7e0bf462385dc32ff9fdc44ec",
            "0f9d2db076c44e9eb7b8417fcf049ea2",
            "7735e4387237415f9a1feae8cf6223fb",
            "4d9f62c7e816476397bbd2b72f52c596",
            "0502aaaa1a1c491a823a4d928206372d",
            "be7099adc85c47e499fe44891ba8f046",
            "64c647075bde40aea7e8b89ff16d711a",
            "54eb2701baf648759b2f6ca7eb96e80b",
            "6af2301564e54b109d3c70c37f08fa5a",
            "6ddbc3bd20f54f1098a73fb6eab471e6",
            "9de0c00041ca4c199e75d898a2a64029",
            "ab063b1d0a1d4120a92bb57056cadf4f",
            "2840537ab10541aa891bdd462f505214",
            "7a5fddaf444a45a0be24766bb1ee5bff",
            "87f4e1774b8a481eaaac3c3d2102c315",
            "927c4f9dbeef4dc5993b6b78e5320d66",
            "00cbfc4901a243e588ba63073bb40ba7",
            "d06a36ffcc2540d5b44d8c8fcfa9cfa2",
            "4400849291fd48e481e161a9bf052988",
            "0543acde3def48b883583122b605fd6d"
          ]
        },
        "outputId": "45b5fc03-12b5-4d17-81c4-c22a3077c470"
      },
      "source": [
        "# Global parameters\n",
        "model_name = \"bert-base-multilingual-cased\"\n",
        "tokenizer = BertTokenizer.from_pretrained(model_name)\n",
        "\n",
        "# Loading data\n",
        "train = pd.read_csv(\"07-train.csv\", encoding = \"utf-8-sig\")\n",
        "valid = pd.read_csv(\"07-test.csv\", encoding = \"utf-8-sig\")"
      ],
      "execution_count": 5,
      "outputs": [
        {
          "output_type": "display_data",
          "data": {
            "application/vnd.jupyter.widget-view+json": {
              "model_id": "f2370d9ee6de4a2b901c9c4f414ff625",
              "version_minor": 0,
              "version_major": 2
            },
            "text/plain": [
              "Downloading:   0%|          | 0.00/972k [00:00<?, ?B/s]"
            ]
          },
          "metadata": {}
        },
        {
          "output_type": "display_data",
          "data": {
            "application/vnd.jupyter.widget-view+json": {
              "model_id": "32382488d14c449aa46e6e0039c2704a",
              "version_minor": 0,
              "version_major": 2
            },
            "text/plain": [
              "Downloading:   0%|          | 0.00/29.0 [00:00<?, ?B/s]"
            ]
          },
          "metadata": {}
        },
        {
          "output_type": "display_data",
          "data": {
            "application/vnd.jupyter.widget-view+json": {
              "model_id": "d2cd41a55d3648648ca469bcd175d1a2",
              "version_minor": 0,
              "version_major": 2
            },
            "text/plain": [
              "Downloading:   0%|          | 0.00/1.87M [00:00<?, ?B/s]"
            ]
          },
          "metadata": {}
        },
        {
          "output_type": "display_data",
          "data": {
            "application/vnd.jupyter.widget-view+json": {
              "model_id": "6ddbc3bd20f54f1098a73fb6eab471e6",
              "version_minor": 0,
              "version_major": 2
            },
            "text/plain": [
              "Downloading:   0%|          | 0.00/625 [00:00<?, ?B/s]"
            ]
          },
          "metadata": {}
        }
      ]
    },
    {
      "cell_type": "code",
      "metadata": {
        "id": "frd30BK0BeOx",
        "colab": {
          "base_uri": "https://localhost:8080/"
        },
        "outputId": "22e5a59c-51dc-4150-df9b-d12d21bb37bf"
      },
      "source": [
        "# Clear data\n",
        "train = remove_characters(train,[\"words\"])\n",
        "valid = remove_characters(valid,[\"words\"])\n",
        "\n",
        "# Length of strings\n",
        "train_sequence_lengths = [len(tokenizer.encode(text)) for text in train[\"words\"]]\n",
        "max_seq_len_t = max(train_sequence_lengths)\n",
        "\n",
        "valid_sequence_lengths = [len(tokenizer.encode(text)) for text in valid[\"words\"]]\n",
        "max_seq_len_v = max(valid_sequence_lengths)\n",
        "\n",
        "max_seq_len = max([max_seq_len_t,max_seq_len_v])\n",
        "\n",
        "# Creating intents and slots categories\n",
        "#intent_names = train[\"intent\"].unique() \n",
        "intent_names = ['forecast_yield', 'forecast_precipitation', 'climatology', 'cultivars', 'places', 'forecast_date'] \n",
        "intent_map = dict((label, idx) for idx, label in enumerate(intent_names))\n",
        "slot_names = [\"[PAD]\", \"B-crop\",\"B-cultivar\",\"I-cultivar\",\"B-locality\",\"I-locality\",\"B-measure\",\"I-measure\",\"B-date\",\"I-date\",\"B-unit\",\"I-unit\",\"O\"]\n",
        "slot_map = {}\n",
        "for label in slot_names:\n",
        "    slot_map[label] = len(slot_map)\n",
        "\n",
        "# Encoding for intents\n",
        "encoded_train = encode_dataset(tokenizer, train[\"words\"], max_seq_len)\n",
        "encoded_valid = encode_dataset(tokenizer, valid[\"words\"], max_seq_len)\n",
        "# Encoding for slots\n",
        "slot_train = encode_token_labels(train[\"words\"], train[\"labels\"], tokenizer, slot_map, max_seq_len)\n",
        "slot_valid = encode_token_labels(valid[\"words\"], valid[\"labels\"], tokenizer, slot_map, max_seq_len)\n",
        "# Encoding intents\n",
        "intent_train = train[\"intent\"].map(intent_map).values\n",
        "intent_valid = valid[\"intent\"].map(intent_map).values\n",
        "#\n",
        "intent_train = train[\"intent\"].map(intent_map).values\n",
        "slot_train = encode_token_labels(train[\"words\"], train[\"labels\"], tokenizer, slot_map, max_seq_len)\n",
        "\n",
        "\n"
      ],
      "execution_count": 6,
      "outputs": [
        {
          "output_type": "stream",
          "name": "stdout",
          "text": [
            "['forecast_yield' 'forecast_precipitation' 'climatology' 'cultivars'\n",
            " 'places' 'forecast_date']\n"
          ]
        }
      ]
    },
    {
      "cell_type": "markdown",
      "metadata": {
        "id": "WehJKLBGdJ14"
      },
      "source": [
        "# Descriptive analysis\n"
      ]
    },
    {
      "cell_type": "code",
      "metadata": {
        "colab": {
          "base_uri": "https://localhost:8080/",
          "height": 373
        },
        "id": "HiZnJH5ODhM_",
        "outputId": "e802e33d-82f5-455d-ba1e-a55e92f7bc4d"
      },
      "source": [
        "fig, axes = plt.subplots(1, 2, sharex=True, sharey=True, figsize=(10,5))\n",
        "fig.suptitle('Length of sentences')\n",
        "\n",
        "sns.histplot(train_sequence_lengths, bins=30, ax=axes[0])\n",
        "axes[0].set_title(f\"Train - max: {max_seq_len_t}\")\n",
        "\n",
        "sns.histplot(valid_sequence_lengths, bins=30, ax=axes[1])\n",
        "axes[1].set_title(f\"Valid - max: {max_seq_len_v}\")"
      ],
      "execution_count": 6,
      "outputs": [
        {
          "output_type": "execute_result",
          "data": {
            "text/plain": [
              "Text(0.5, 1.0, 'Valid - max: 27')"
            ]
          },
          "metadata": {},
          "execution_count": 6
        },
        {
          "output_type": "display_data",
          "data": {
            "image/png": "[encoded data removed]",
            "text/plain": [
              "<Figure size 720x360 with 2 Axes>"
            ]
          },
          "metadata": {
            "needs_background": "light"
          }
        }
      ]
    },
    {
      "cell_type": "code",
      "metadata": {
        "colab": {
          "base_uri": "https://localhost:8080/",
          "height": 485
        },
        "id": "4yVxezZRbMIh",
        "outputId": "bc416961-46d7-4682-efab-77c7b37c14d8"
      },
      "source": [
        "fig, axes = plt.subplots(1, 2, sharey=True, sharex=True, figsize=(10,5))\n",
        "fig.suptitle('Intents')\n",
        "\n",
        "sns.countplot(data=train, x=\"intent\", ax=axes[0])\n",
        "axes[0].tick_params(axis='x', rotation=90)\n",
        "axes[0].set_title(\"Train\")\n",
        "\n",
        "sns.countplot(data=valid, x=\"intent\", ax=axes[1])\n",
        "axes[1].tick_params(axis='x', rotation=90)\n",
        "axes[1].set_title(\"Valid\")\n"
      ],
      "execution_count": 7,
      "outputs": [
        {
          "output_type": "execute_result",
          "data": {
            "text/plain": [
              "Text(0.5, 1.0, 'Valid')"
            ]
          },
          "metadata": {},
          "execution_count": 7
        },
        {
          "output_type": "display_data",
          "data": {
            "image/png": "[encoded data removed]",
            "text/plain": [
              "<Figure size 720x360 with 2 Axes>"
            ]
          },
          "metadata": {
            "needs_background": "light"
          }
        }
      ]
    },
    {
      "cell_type": "markdown",
      "metadata": {
        "id": "G18Zy0HosVxE"
      },
      "source": [
        "# Modelling"
      ]
    },
    {
      "cell_type": "code",
      "metadata": {
        "id": "lNWZupFzE9O9"
      },
      "source": [
        "def create_model(intent_num_labels, slot_num_labels):\n",
        "  \n",
        "  model_inputs =  keras.layers.Input(shape=(None,), dtype='int32', name='input_ids')\n",
        "  #model_mask =  keras.layers.Input(shape=(None,), dtype='int32', name='attention_masks')\n",
        "  \n",
        "  bert = TFBertModel.from_pretrained(model_name).bert # get features\n",
        "  #bert_output = bert([model_inputs,model_mask])    \n",
        "  bert_output = bert(model_inputs)\n",
        "  \n",
        "    \n",
        "  intents_drop = Dropout(rate=0.1, name=\"intent_dropout\")(bert_output[1])  \n",
        "  intents_fc = Dense(intent_num_labels, activation='softmax', name='intent_classifier')(intents_drop)\n",
        "  \n",
        "  slots_output = Dropout(rate=0.3, name='slots_dropout')(bert_output[0])\n",
        "  #slots_output = Dense(500, activation='relu', name='slots_dense')(slots_output)  \n",
        "  slots_output = Dense(slot_num_labels, activation='softmax', name='slots_classifier')(slots_output)\n",
        "\n",
        "  #model = keras.Model(inputs=[model_inputs,model_mask], outputs=[slots_output, intents_fc])\n",
        "  model = keras.Model(inputs=model_inputs, outputs=[slots_output, intents_fc])\n",
        "  model.name = \"DemeterBERT\"\n",
        "  #model.build(input_shape=[(None, max_seq_len),(None, max_seq_len)])\n",
        "  model.build(input_shape=[(None, )])\n",
        "\n",
        "  return model"
      ],
      "execution_count": 9,
      "outputs": []
    },
    {
      "cell_type": "code",
      "metadata": {
        "id": "NEIUxPPStKEq"
      },
      "source": [
        "# Hyper parameters\n",
        "#opt = Adam()#learning_rate=3e-5, epsilon=1e-08)\n",
        "opt = Adam(learning_rate=5e-5, epsilon=1e-08)\n",
        "losses = [SparseCategoricalCrossentropy(from_logits=False),\n",
        "          SparseCategoricalCrossentropy(from_logits=False)]\n",
        "metrics = [SparseCategoricalAccuracy('accuracy')]\n",
        "\n",
        "log_dir = \"log/\" + datetime.datetime.now().strftime(\"%Y%m%d-%H%M%s\")"
      ],
      "execution_count": 10,
      "outputs": []
    },
    {
      "cell_type": "code",
      "metadata": {
        "colab": {
          "base_uri": "https://localhost:8080/"
        },
        "id": "NwhSuNvss8hf",
        "outputId": "b16de50f-3113-47f1-90eb-9378d4e2e715"
      },
      "source": [
        "model = create_model(intent_num_labels=len(intent_map), slot_num_labels=len(slot_map))\n",
        "model.compile(optimizer=opt, loss=losses, metrics=metrics)"
      ],
      "execution_count": 11,
      "outputs": [
        {
          "output_type": "stream",
          "name": "stderr",
          "text": [
            "Some layers from the model checkpoint at bert-base-multilingual-cased were not used when initializing TFBertModel: ['mlm___cls', 'nsp___cls']\n",
            "- This IS expected if you are initializing TFBertModel from the checkpoint of a model trained on another task or with another architecture (e.g. initializing a BertForSequenceClassification model from a BertForPreTraining model).\n",
            "- This IS NOT expected if you are initializing TFBertModel from the checkpoint of a model that you expect to be exactly identical (initializing a BertForSequenceClassification model from a BertForSequenceClassification model).\n",
            "All the layers of TFBertModel were initialized from the model checkpoint at bert-base-multilingual-cased.\n",
            "If your task is similar to the task the model of the checkpoint was trained on, you can already use TFBertModel for predictions without further training.\n"
          ]
        }
      ]
    },
    {
      "cell_type": "code",
      "metadata": {
        "colab": {
          "base_uri": "https://localhost:8080/"
        },
        "id": "0SMzr3UkuMxq",
        "outputId": "a8313fe5-1e99-4c87-898e-7415e3128a1e"
      },
      "source": [
        "!rm -dfr log/\n",
        "tensorboard_callback = keras.callbacks.TensorBoard(log_dir=log_dir)\n",
        "history = model.fit(    \n",
        "    #x = [encoded_train[\"input_ids\"],encoded_train[\"attention_masks\"]],\n",
        "    x = encoded_train[\"input_ids\"],#encoded_train[\"attention_masks\"]],\n",
        "    y = (slot_train, intent_train),\n",
        "    validation_split=0.2,\n",
        "    batch_size=60,\n",
        "    shuffle=True,\n",
        "    epochs=40,\n",
        "    callbacks=[tensorboard_callback]\n",
        "    )"
      ],
      "execution_count": 12,
      "outputs": [
        {
          "output_type": "stream",
          "name": "stdout",
          "text": [
            "Epoch 1/40\n",
            "5/5 [==============================] - 29s 2s/step - loss: 3.1859 - slots_classifier_loss: 1.3570 - intent_classifier_loss: 1.8289 - slots_classifier_accuracy: 0.6630 - intent_classifier_accuracy: 0.1532 - val_loss: 2.4791 - val_slots_classifier_loss: 0.4486 - val_intent_classifier_loss: 2.0306 - val_slots_classifier_accuracy: 0.8999 - val_intent_classifier_accuracy: 0.1111\n",
            "Epoch 2/40\n",
            "5/5 [==============================] - 4s 885ms/step - loss: 2.2790 - slots_classifier_loss: 0.4860 - intent_classifier_loss: 1.7930 - slots_classifier_accuracy: 0.8838 - intent_classifier_accuracy: 0.2379 - val_loss: 2.4816 - val_slots_classifier_loss: 0.3193 - val_intent_classifier_loss: 2.1623 - val_slots_classifier_accuracy: 0.9162 - val_intent_classifier_accuracy: 0.0794\n",
            "Epoch 3/40\n",
            "5/5 [==============================] - 4s 818ms/step - loss: 2.0679 - slots_classifier_loss: 0.4040 - intent_classifier_loss: 1.6639 - slots_classifier_accuracy: 0.8916 - intent_classifier_accuracy: 0.3266 - val_loss: 1.9442 - val_slots_classifier_loss: 0.2839 - val_intent_classifier_loss: 1.6603 - val_slots_classifier_accuracy: 0.9140 - val_intent_classifier_accuracy: 0.1746\n",
            "Epoch 4/40\n",
            "5/5 [==============================] - 4s 886ms/step - loss: 1.7371 - slots_classifier_loss: 0.3494 - intent_classifier_loss: 1.3877 - slots_classifier_accuracy: 0.9023 - intent_classifier_accuracy: 0.4677 - val_loss: 1.7494 - val_slots_classifier_loss: 0.2388 - val_intent_classifier_loss: 1.5106 - val_slots_classifier_accuracy: 0.9303 - val_intent_classifier_accuracy: 0.4127\n",
            "Epoch 5/40\n",
            "5/5 [==============================] - 4s 817ms/step - loss: 1.4628 - slots_classifier_loss: 0.2978 - intent_classifier_loss: 1.1650 - slots_classifier_accuracy: 0.9138 - intent_classifier_accuracy: 0.5645 - val_loss: 1.3761 - val_slots_classifier_loss: 0.2079 - val_intent_classifier_loss: 1.1683 - val_slots_classifier_accuracy: 0.9352 - val_intent_classifier_accuracy: 0.6667\n",
            "Epoch 6/40\n",
            "5/5 [==============================] - 4s 820ms/step - loss: 1.1451 - slots_classifier_loss: 0.2688 - intent_classifier_loss: 0.8762 - slots_classifier_accuracy: 0.9196 - intent_classifier_accuracy: 0.7298 - val_loss: 1.3448 - val_slots_classifier_loss: 0.1939 - val_intent_classifier_loss: 1.1509 - val_slots_classifier_accuracy: 0.9436 - val_intent_classifier_accuracy: 0.5397\n",
            "Epoch 7/40\n",
            "5/5 [==============================] - 4s 819ms/step - loss: 0.9085 - slots_classifier_loss: 0.2566 - intent_classifier_loss: 0.6519 - slots_classifier_accuracy: 0.9205 - intent_classifier_accuracy: 0.7863 - val_loss: 0.9883 - val_slots_classifier_loss: 0.2181 - val_intent_classifier_loss: 0.7702 - val_slots_classifier_accuracy: 0.9378 - val_intent_classifier_accuracy: 0.7778\n",
            "Epoch 8/40\n",
            "5/5 [==============================] - 4s 817ms/step - loss: 0.7022 - slots_classifier_loss: 0.2485 - intent_classifier_loss: 0.4537 - slots_classifier_accuracy: 0.9225 - intent_classifier_accuracy: 0.8548 - val_loss: 1.1274 - val_slots_classifier_loss: 0.1794 - val_intent_classifier_loss: 0.9480 - val_slots_classifier_accuracy: 0.9519 - val_intent_classifier_accuracy: 0.6508\n",
            "Epoch 9/40\n",
            "5/5 [==============================] - 4s 818ms/step - loss: 0.6890 - slots_classifier_loss: 0.2405 - intent_classifier_loss: 0.4485 - slots_classifier_accuracy: 0.9270 - intent_classifier_accuracy: 0.8427 - val_loss: 0.8423 - val_slots_classifier_loss: 0.1828 - val_intent_classifier_loss: 0.6595 - val_slots_classifier_accuracy: 0.9519 - val_intent_classifier_accuracy: 0.8095\n",
            "Epoch 10/40\n",
            "5/5 [==============================] - 4s 823ms/step - loss: 0.4653 - slots_classifier_loss: 0.2225 - intent_classifier_loss: 0.2428 - slots_classifier_accuracy: 0.9322 - intent_classifier_accuracy: 0.9435 - val_loss: 0.8161 - val_slots_classifier_loss: 0.1355 - val_intent_classifier_loss: 0.6805 - val_slots_classifier_accuracy: 0.9625 - val_intent_classifier_accuracy: 0.8095\n",
            "Epoch 11/40\n",
            "5/5 [==============================] - 4s 889ms/step - loss: 0.3570 - slots_classifier_loss: 0.1811 - intent_classifier_loss: 0.1759 - slots_classifier_accuracy: 0.9450 - intent_classifier_accuracy: 0.9597 - val_loss: 0.8535 - val_slots_classifier_loss: 0.1502 - val_intent_classifier_loss: 0.7033 - val_slots_classifier_accuracy: 0.9599 - val_intent_classifier_accuracy: 0.7778\n",
            "Epoch 12/40\n",
            "5/5 [==============================] - 4s 892ms/step - loss: 0.3482 - slots_classifier_loss: 0.1826 - intent_classifier_loss: 0.1656 - slots_classifier_accuracy: 0.9449 - intent_classifier_accuracy: 0.9556 - val_loss: 0.8646 - val_slots_classifier_loss: 0.1332 - val_intent_classifier_loss: 0.7314 - val_slots_classifier_accuracy: 0.9687 - val_intent_classifier_accuracy: 0.7619\n",
            "Epoch 13/40\n",
            "5/5 [==============================] - 4s 894ms/step - loss: 0.2557 - slots_classifier_loss: 0.1572 - intent_classifier_loss: 0.0984 - slots_classifier_accuracy: 0.9518 - intent_classifier_accuracy: 0.9758 - val_loss: 0.6810 - val_slots_classifier_loss: 0.1245 - val_intent_classifier_loss: 0.5565 - val_slots_classifier_accuracy: 0.9669 - val_intent_classifier_accuracy: 0.8413\n",
            "Epoch 14/40\n",
            "5/5 [==============================] - 4s 824ms/step - loss: 0.2300 - slots_classifier_loss: 0.1529 - intent_classifier_loss: 0.0771 - slots_classifier_accuracy: 0.9559 - intent_classifier_accuracy: 0.9758 - val_loss: 0.7389 - val_slots_classifier_loss: 0.1129 - val_intent_classifier_loss: 0.6260 - val_slots_classifier_accuracy: 0.9696 - val_intent_classifier_accuracy: 0.8254\n",
            "Epoch 15/40\n",
            "5/5 [==============================] - 4s 893ms/step - loss: 0.2141 - slots_classifier_loss: 0.1342 - intent_classifier_loss: 0.0799 - slots_classifier_accuracy: 0.9584 - intent_classifier_accuracy: 0.9839 - val_loss: 0.6741 - val_slots_classifier_loss: 0.1174 - val_intent_classifier_loss: 0.5567 - val_slots_classifier_accuracy: 0.9705 - val_intent_classifier_accuracy: 0.8095\n",
            "Epoch 16/40\n",
            "5/5 [==============================] - 4s 893ms/step - loss: 0.2152 - slots_classifier_loss: 0.1332 - intent_classifier_loss: 0.0821 - slots_classifier_accuracy: 0.9586 - intent_classifier_accuracy: 0.9758 - val_loss: 0.7407 - val_slots_classifier_loss: 0.1183 - val_intent_classifier_loss: 0.6224 - val_slots_classifier_accuracy: 0.9647 - val_intent_classifier_accuracy: 0.8571\n",
            "Epoch 17/40\n",
            "5/5 [==============================] - 4s 828ms/step - loss: 0.2018 - slots_classifier_loss: 0.1284 - intent_classifier_loss: 0.0734 - slots_classifier_accuracy: 0.9639 - intent_classifier_accuracy: 0.9839 - val_loss: 1.0055 - val_slots_classifier_loss: 0.1163 - val_intent_classifier_loss: 0.8891 - val_slots_classifier_accuracy: 0.9660 - val_intent_classifier_accuracy: 0.7937\n",
            "Epoch 18/40\n",
            "5/5 [==============================] - 4s 895ms/step - loss: 0.1761 - slots_classifier_loss: 0.1313 - intent_classifier_loss: 0.0449 - slots_classifier_accuracy: 0.9610 - intent_classifier_accuracy: 0.9879 - val_loss: 0.8287 - val_slots_classifier_loss: 0.1129 - val_intent_classifier_loss: 0.7158 - val_slots_classifier_accuracy: 0.9696 - val_intent_classifier_accuracy: 0.8095\n",
            "Epoch 19/40\n",
            "5/5 [==============================] - 4s 827ms/step - loss: 0.1490 - slots_classifier_loss: 0.1195 - intent_classifier_loss: 0.0295 - slots_classifier_accuracy: 0.9616 - intent_classifier_accuracy: 0.9919 - val_loss: 0.7640 - val_slots_classifier_loss: 0.1060 - val_intent_classifier_loss: 0.6580 - val_slots_classifier_accuracy: 0.9705 - val_intent_classifier_accuracy: 0.8413\n",
            "Epoch 20/40\n",
            "5/5 [==============================] - 4s 828ms/step - loss: 0.1178 - slots_classifier_loss: 0.1002 - intent_classifier_loss: 0.0177 - slots_classifier_accuracy: 0.9719 - intent_classifier_accuracy: 0.9960 - val_loss: 0.9424 - val_slots_classifier_loss: 0.0983 - val_intent_classifier_loss: 0.8441 - val_slots_classifier_accuracy: 0.9744 - val_intent_classifier_accuracy: 0.7937\n",
            "Epoch 21/40\n",
            "5/5 [==============================] - 4s 897ms/step - loss: 0.1092 - slots_classifier_loss: 0.0872 - intent_classifier_loss: 0.0220 - slots_classifier_accuracy: 0.9749 - intent_classifier_accuracy: 0.9960 - val_loss: 0.8549 - val_slots_classifier_loss: 0.1023 - val_intent_classifier_loss: 0.7526 - val_slots_classifier_accuracy: 0.9722 - val_intent_classifier_accuracy: 0.8413\n",
            "Epoch 22/40\n",
            "5/5 [==============================] - 4s 833ms/step - loss: 0.0987 - slots_classifier_loss: 0.0860 - intent_classifier_loss: 0.0126 - slots_classifier_accuracy: 0.9744 - intent_classifier_accuracy: 1.0000 - val_loss: 0.8312 - val_slots_classifier_loss: 0.1039 - val_intent_classifier_loss: 0.7273 - val_slots_classifier_accuracy: 0.9705 - val_intent_classifier_accuracy: 0.8571\n",
            "Epoch 23/40\n",
            "5/5 [==============================] - 4s 897ms/step - loss: 0.0966 - slots_classifier_loss: 0.0802 - intent_classifier_loss: 0.0165 - slots_classifier_accuracy: 0.9767 - intent_classifier_accuracy: 1.0000 - val_loss: 0.8427 - val_slots_classifier_loss: 0.1010 - val_intent_classifier_loss: 0.7417 - val_slots_classifier_accuracy: 0.9696 - val_intent_classifier_accuracy: 0.8413\n",
            "Epoch 24/40\n",
            "5/5 [==============================] - 4s 825ms/step - loss: 0.0801 - slots_classifier_loss: 0.0730 - intent_classifier_loss: 0.0071 - slots_classifier_accuracy: 0.9803 - intent_classifier_accuracy: 1.0000 - val_loss: 0.9335 - val_slots_classifier_loss: 0.0969 - val_intent_classifier_loss: 0.8366 - val_slots_classifier_accuracy: 0.9718 - val_intent_classifier_accuracy: 0.8254\n",
            "Epoch 25/40\n",
            "5/5 [==============================] - 4s 895ms/step - loss: 0.0712 - slots_classifier_loss: 0.0637 - intent_classifier_loss: 0.0074 - slots_classifier_accuracy: 0.9814 - intent_classifier_accuracy: 1.0000 - val_loss: 0.9766 - val_slots_classifier_loss: 0.0958 - val_intent_classifier_loss: 0.8809 - val_slots_classifier_accuracy: 0.9718 - val_intent_classifier_accuracy: 0.8413\n",
            "Epoch 26/40\n",
            "5/5 [==============================] - 4s 827ms/step - loss: 0.0720 - slots_classifier_loss: 0.0621 - intent_classifier_loss: 0.0099 - slots_classifier_accuracy: 0.9822 - intent_classifier_accuracy: 1.0000 - val_loss: 0.9403 - val_slots_classifier_loss: 0.0959 - val_intent_classifier_loss: 0.8444 - val_slots_classifier_accuracy: 0.9722 - val_intent_classifier_accuracy: 0.8254\n",
            "Epoch 27/40\n",
            "5/5 [==============================] - 4s 894ms/step - loss: 0.0618 - slots_classifier_loss: 0.0559 - intent_classifier_loss: 0.0058 - slots_classifier_accuracy: 0.9830 - intent_classifier_accuracy: 1.0000 - val_loss: 0.9098 - val_slots_classifier_loss: 0.0969 - val_intent_classifier_loss: 0.8129 - val_slots_classifier_accuracy: 0.9740 - val_intent_classifier_accuracy: 0.8254\n",
            "Epoch 28/40\n",
            "5/5 [==============================] - 4s 824ms/step - loss: 0.0564 - slots_classifier_loss: 0.0511 - intent_classifier_loss: 0.0052 - slots_classifier_accuracy: 0.9851 - intent_classifier_accuracy: 1.0000 - val_loss: 0.8993 - val_slots_classifier_loss: 0.0997 - val_intent_classifier_loss: 0.7995 - val_slots_classifier_accuracy: 0.9713 - val_intent_classifier_accuracy: 0.8254\n",
            "Epoch 29/40\n",
            "5/5 [==============================] - 4s 826ms/step - loss: 0.0564 - slots_classifier_loss: 0.0514 - intent_classifier_loss: 0.0050 - slots_classifier_accuracy: 0.9850 - intent_classifier_accuracy: 1.0000 - val_loss: 0.8991 - val_slots_classifier_loss: 0.0954 - val_intent_classifier_loss: 0.8037 - val_slots_classifier_accuracy: 0.9735 - val_intent_classifier_accuracy: 0.8254\n",
            "Epoch 30/40\n",
            "5/5 [==============================] - 4s 895ms/step - loss: 0.0494 - slots_classifier_loss: 0.0450 - intent_classifier_loss: 0.0044 - slots_classifier_accuracy: 0.9866 - intent_classifier_accuracy: 1.0000 - val_loss: 0.9224 - val_slots_classifier_loss: 0.0922 - val_intent_classifier_loss: 0.8302 - val_slots_classifier_accuracy: 0.9744 - val_intent_classifier_accuracy: 0.8254\n",
            "Epoch 31/40\n",
            "5/5 [==============================] - 4s 823ms/step - loss: 0.0470 - slots_classifier_loss: 0.0424 - intent_classifier_loss: 0.0046 - slots_classifier_accuracy: 0.9872 - intent_classifier_accuracy: 1.0000 - val_loss: 0.9378 - val_slots_classifier_loss: 0.0916 - val_intent_classifier_loss: 0.8462 - val_slots_classifier_accuracy: 0.9722 - val_intent_classifier_accuracy: 0.8254\n",
            "Epoch 32/40\n",
            "5/5 [==============================] - 4s 827ms/step - loss: 0.0444 - slots_classifier_loss: 0.0403 - intent_classifier_loss: 0.0041 - slots_classifier_accuracy: 0.9885 - intent_classifier_accuracy: 1.0000 - val_loss: 0.9432 - val_slots_classifier_loss: 0.0904 - val_intent_classifier_loss: 0.8528 - val_slots_classifier_accuracy: 0.9749 - val_intent_classifier_accuracy: 0.8254\n",
            "Epoch 33/40\n",
            "5/5 [==============================] - 4s 896ms/step - loss: 0.0425 - slots_classifier_loss: 0.0355 - intent_classifier_loss: 0.0070 - slots_classifier_accuracy: 0.9895 - intent_classifier_accuracy: 1.0000 - val_loss: 0.9521 - val_slots_classifier_loss: 0.0908 - val_intent_classifier_loss: 0.8612 - val_slots_classifier_accuracy: 0.9744 - val_intent_classifier_accuracy: 0.8095\n",
            "Epoch 34/40\n",
            "5/5 [==============================] - 4s 896ms/step - loss: 0.0377 - slots_classifier_loss: 0.0340 - intent_classifier_loss: 0.0037 - slots_classifier_accuracy: 0.9904 - intent_classifier_accuracy: 1.0000 - val_loss: 0.9634 - val_slots_classifier_loss: 0.0925 - val_intent_classifier_loss: 0.8709 - val_slots_classifier_accuracy: 0.9735 - val_intent_classifier_accuracy: 0.8254\n",
            "Epoch 35/40\n",
            "5/5 [==============================] - 4s 893ms/step - loss: 0.0372 - slots_classifier_loss: 0.0332 - intent_classifier_loss: 0.0040 - slots_classifier_accuracy: 0.9901 - intent_classifier_accuracy: 1.0000 - val_loss: 0.9593 - val_slots_classifier_loss: 0.0917 - val_intent_classifier_loss: 0.8676 - val_slots_classifier_accuracy: 0.9753 - val_intent_classifier_accuracy: 0.8095\n",
            "Epoch 36/40\n",
            "5/5 [==============================] - 4s 827ms/step - loss: 0.0345 - slots_classifier_loss: 0.0306 - intent_classifier_loss: 0.0038 - slots_classifier_accuracy: 0.9914 - intent_classifier_accuracy: 1.0000 - val_loss: 0.9381 - val_slots_classifier_loss: 0.0903 - val_intent_classifier_loss: 0.8478 - val_slots_classifier_accuracy: 0.9749 - val_intent_classifier_accuracy: 0.8095\n",
            "Epoch 37/40\n",
            "5/5 [==============================] - 4s 829ms/step - loss: 0.0334 - slots_classifier_loss: 0.0295 - intent_classifier_loss: 0.0039 - slots_classifier_accuracy: 0.9907 - intent_classifier_accuracy: 1.0000 - val_loss: 0.9229 - val_slots_classifier_loss: 0.0900 - val_intent_classifier_loss: 0.8329 - val_slots_classifier_accuracy: 0.9744 - val_intent_classifier_accuracy: 0.8095\n",
            "Epoch 38/40\n",
            "5/5 [==============================] - 4s 896ms/step - loss: 0.0333 - slots_classifier_loss: 0.0299 - intent_classifier_loss: 0.0033 - slots_classifier_accuracy: 0.9909 - intent_classifier_accuracy: 1.0000 - val_loss: 0.9204 - val_slots_classifier_loss: 0.0911 - val_intent_classifier_loss: 0.8293 - val_slots_classifier_accuracy: 0.9749 - val_intent_classifier_accuracy: 0.8095\n",
            "Epoch 39/40\n",
            "5/5 [==============================] - 4s 826ms/step - loss: 0.0273 - slots_classifier_loss: 0.0243 - intent_classifier_loss: 0.0029 - slots_classifier_accuracy: 0.9932 - intent_classifier_accuracy: 1.0000 - val_loss: 0.9246 - val_slots_classifier_loss: 0.0935 - val_intent_classifier_loss: 0.8311 - val_slots_classifier_accuracy: 0.9753 - val_intent_classifier_accuracy: 0.8095\n",
            "Epoch 40/40\n",
            "5/5 [==============================] - 4s 822ms/step - loss: 0.0265 - slots_classifier_loss: 0.0238 - intent_classifier_loss: 0.0027 - slots_classifier_accuracy: 0.9942 - intent_classifier_accuracy: 1.0000 - val_loss: 0.9337 - val_slots_classifier_loss: 0.0962 - val_intent_classifier_loss: 0.8375 - val_slots_classifier_accuracy: 0.9762 - val_intent_classifier_accuracy: 0.8095\n"
          ]
        }
      ]
    },
    {
      "cell_type": "code",
      "metadata": {
        "colab": {
          "base_uri": "https://localhost:8080/",
          "height": 871
        },
        "id": "vwcljsNXzulB",
        "outputId": "bf2a4f8c-cdaa-4925-cba1-3c2119958dee"
      },
      "source": [
        "%load_ext tensorboard\n",
        "#%reload_ext tensorboard\n",
        "%tensorboard --logdir log"
      ],
      "execution_count": 20,
      "outputs": [
        {
          "output_type": "stream",
          "name": "stdout",
          "text": [
            "The tensorboard extension is already loaded. To reload it, use:\n",
            "  %reload_ext tensorboard\n"
          ]
        },
        {
          "output_type": "display_data",
          "data": {
            "text/plain": [
              "Reusing TensorBoard on port 6006 (pid 373), started 2:00:01 ago. (Use '!kill 373' to kill it.)"
            ]
          },
          "metadata": {}
        },
        {
          "output_type": "display_data",
          "data": {
            "application/javascript": [
              "\n",
              "        (async () => {\n",
              "            const url = new URL(await google.colab.kernel.proxyPort(6006, {'cache': true}));\n",
              "            url.searchParams.set('tensorboardColab', 'true');\n",
              "            const iframe = document.createElement('iframe');\n",
              "            iframe.src = url;\n",
              "            iframe.setAttribute('width', '100%');\n",
              "            iframe.setAttribute('height', '800');\n",
              "            iframe.setAttribute('frameborder', 0);\n",
              "            document.body.appendChild(iframe);\n",
              "        })();\n",
              "    "
            ],
            "text/plain": [
              "<IPython.core.display.Javascript object>"
            ]
          },
          "metadata": {}
        }
      ]
    },
    {
      "cell_type": "markdown",
      "metadata": {
        "id": "EXIP5P0GhwKm"
      },
      "source": [
        "# Evaluation"
      ]
    },
    {
      "cell_type": "code",
      "metadata": {
        "colab": {
          "base_uri": "https://localhost:8080/"
        },
        "id": "Ig-2OmWGhxNp",
        "outputId": "2e9a600d-414d-44ea-aea4-7fd17636dc26"
      },
      "source": [
        "#train_e = model.evaluate([encoded_train[\"input_ids\"],encoded_train[\"attention_masks\"]], (slot_train, intent_train))\n",
        "#test_e = model.evaluate([encoded_valid[\"input_ids\"],encoded_valid[\"attention_masks\"]], (slot_valid, intent_valid))\n",
        "train_e = model.evaluate(encoded_train[\"input_ids\"], (slot_train, intent_train))\n",
        "test_e = model.evaluate(encoded_valid[\"input_ids\"], (slot_valid, intent_valid))"
      ],
      "execution_count": 14,
      "outputs": [
        {
          "output_type": "stream",
          "name": "stdout",
          "text": [
            "10/10 [==============================] - 2s 174ms/step - loss: 0.1979 - slots_classifier_loss: 0.0277 - intent_classifier_loss: 0.1703 - slots_classifier_accuracy: 0.9929 - intent_classifier_accuracy: 0.9614\n",
            "5/5 [==============================] - 1s 154ms/step - loss: 0.9971 - slots_classifier_loss: 0.1278 - intent_classifier_loss: 0.8692 - slots_classifier_accuracy: 0.9712 - intent_classifier_accuracy: 0.8060\n"
          ]
        }
      ]
    },
    {
      "cell_type": "code",
      "metadata": {
        "colab": {
          "base_uri": "https://localhost:8080/",
          "height": 350
        },
        "id": "3mhCrawlhtfh",
        "outputId": "081733fe-ae6d-41df-e6fb-197ab4ddf2a9"
      },
      "source": [
        "#y_pred = model.predict([encoded_valid[\"input_ids\"], encoded_valid[\"attention_masks\"]])\n",
        "y_pred = model.predict(encoded_valid[\"input_ids\"])\n",
        "y_intent = y_pred[1].argmax(axis=-1)\n",
        "cm = confusion_matrix(intent_valid, y_intent)\n",
        "df_cm = pd.DataFrame(cm, index=intent_map, columns=intent_map)\n",
        "\n",
        "hmap = sns.heatmap(df_cm, annot=True, fmt=\"d\")\n",
        "hmap.yaxis.set_ticklabels(hmap.yaxis.get_ticklabels(), rotation=0, ha='right')\n",
        "hmap.xaxis.set_ticklabels(hmap.xaxis.get_ticklabels(), rotation=30, ha='right')\n",
        "plt.ylabel('True label')\n",
        "plt.xlabel('Predicted label')"
      ],
      "execution_count": 15,
      "outputs": [
        {
          "output_type": "execute_result",
          "data": {
            "text/plain": [
              "Text(0.5, 14.09375, 'Predicted label')"
            ]
          },
          "metadata": {},
          "execution_count": 15
        },
        {
          "output_type": "display_data",
          "data": {
            "image/png": "[encoded data removed]",
            "text/plain": [
              "<Figure size 432x288 with 2 Axes>"
            ]
          },
          "metadata": {
            "needs_background": "light"
          }
        }
      ]
    },
    {
      "cell_type": "markdown",
      "metadata": {
        "id": "uy2YC3Z6ijYy"
      },
      "source": [
        "# Test"
      ]
    },
    {
      "cell_type": "code",
      "metadata": {
        "id": "NGfzsOsZilvf"
      },
      "source": [
        "def decode_predictions(text, tokenizer, intent_names, slot_names,intent_id, slot_ids):\n",
        "    info = {\"intent\": intent_names[intent_id]}\n",
        "    collected_slots = {}\n",
        "    active_slot_words = []\n",
        "    active_slot_name = None\n",
        "    for word in text.split():\n",
        "        tokens = tokenizer.tokenize(word)\n",
        "        current_word_slot_ids = slot_ids[:len(tokens)]\n",
        "        slot_ids = slot_ids[len(tokens):]\n",
        "        current_word_slot_name = slot_names[current_word_slot_ids[0]]\n",
        "        if current_word_slot_name == \"O\":\n",
        "            if active_slot_name:\n",
        "                collected_slots[active_slot_name] = \" \".join(active_slot_words)\n",
        "                active_slot_words = []\n",
        "                active_slot_name = None\n",
        "        else:\n",
        "            # Naive BIO: handling: treat B- and I- the same...\n",
        "            new_slot_name = current_word_slot_name[2:]\n",
        "            if active_slot_name is None:\n",
        "                active_slot_words.append(word)\n",
        "                active_slot_name = new_slot_name\n",
        "            elif new_slot_name == active_slot_name:\n",
        "                active_slot_words.append(word)\n",
        "            else:\n",
        "                collected_slots[active_slot_name] = \" \".join(active_slot_words)\n",
        "                active_slot_words = [word]\n",
        "                active_slot_name = new_slot_name\n",
        "    if active_slot_name:\n",
        "        collected_slots[active_slot_name] = \" \".join(active_slot_words)\n",
        "    info[\"slots\"] = collected_slots\n",
        "    return info\n",
        "\n",
        "def nlu(text, tokenizer, my_model, intent_names, slot_names):\n",
        "    inputs = tf.constant(tokenizer.encode(text))[None, :]  # batch_size = 1\n",
        "    outputs = my_model(inputs)\n",
        "    slot_logits, intent_logits = outputs\n",
        "    #print(slot_logits.numpy())\n",
        "    slot_ids = slot_logits.numpy().argmax(axis=-1)[0, 1:-1]\n",
        "    #print(slot_ids)\n",
        "    intent_id = intent_logits.numpy().argmax(axis=-1)[0]\n",
        "\n",
        "    return decode_predictions(text, tokenizer, intent_names, slot_names,intent_id, slot_ids)"
      ],
      "execution_count": 16,
      "outputs": []
    },
    {
      "cell_type": "code",
      "metadata": {
        "colab": {
          "base_uri": "https://localhost:8080/"
        },
        "id": "_0WwiTqQL_gP",
        "outputId": "2e6b3e87-2975-4fef-9c3d-1ddc603cc608"
      },
      "source": [
        "nlu(\"Cual es la mejor variedad para sembrar en Tolima\",tokenizer, model, intent_names, slot_names)"
      ],
      "execution_count": 17,
      "outputs": [
        {
          "output_type": "execute_result",
          "data": {
            "text/plain": [
              "{'intent': 'cultivars', 'slots': {'locality': 'Tolima'}}"
            ]
          },
          "metadata": {},
          "execution_count": 17
        }
      ]
    },
    {
      "cell_type": "markdown",
      "metadata": {
        "id": "FdJeZuKTi8E3"
      },
      "source": [
        "# Export"
      ]
    },
    {
      "cell_type": "code",
      "metadata": {
        "colab": {
          "base_uri": "https://localhost:8080/"
        },
        "id": "RH_A6zr1i_Bv",
        "outputId": "3c01bc01-7c5e-4ad3-ea29-69d7aa63d169"
      },
      "source": [
        "!rm -dfr demeter\n",
        "\n",
        "model.summary()\n",
        "#model.save(\"demeter\")\n",
        "tf.keras.models.save_model(model,\"demeter\")\n",
        "\n",
        "!zip -r demeter.zip demeter"
      ],
      "execution_count": 18,
      "outputs": [
        {
          "output_type": "stream",
          "name": "stdout",
          "text": [
            "Model: \"model\"\n",
            "__________________________________________________________________________________________________\n",
            "Layer (type)                    Output Shape         Param #     Connected to                     \n",
            "==================================================================================================\n",
            "input_ids (InputLayer)          [(None, None)]       0                                            \n",
            "__________________________________________________________________________________________________\n",
            "bert (TFBertMainLayer)          TFBaseModelOutputWit 177853440   input_ids[0][0]                  \n",
            "__________________________________________________________________________________________________\n",
            "slots_dropout (Dropout)         (None, None, 768)    0           bert[0][0]                       \n",
            "__________________________________________________________________________________________________\n",
            "intent_dropout (Dropout)        (None, 768)          0           bert[0][1]                       \n",
            "__________________________________________________________________________________________________\n",
            "slots_classifier (Dense)        (None, None, 13)     9997        slots_dropout[0][0]              \n",
            "__________________________________________________________________________________________________\n",
            "intent_classifier (Dense)       (None, 6)            4614        intent_dropout[0][0]             \n",
            "==================================================================================================\n",
            "Total params: 177,868,051\n",
            "Trainable params: 177,868,051\n",
            "Non-trainable params: 0\n",
            "__________________________________________________________________________________________________\n"
          ]
        },
        {
          "output_type": "stream",
          "name": "stderr",
          "text": [
            "WARNING:absl:Found untraced functions such as embeddings_layer_call_fn, embeddings_layer_call_and_return_conditional_losses, encoder_layer_call_fn, encoder_layer_call_and_return_conditional_losses, pooler_layer_call_fn while saving (showing 5 of 1055). These functions will not be directly callable after loading.\n"
          ]
        },
        {
          "output_type": "stream",
          "name": "stdout",
          "text": [
            "INFO:tensorflow:Assets written to: demeter/assets\n"
          ]
        },
        {
          "output_type": "stream",
          "name": "stderr",
          "text": [
            "INFO:tensorflow:Assets written to: demeter/assets\n",
            "/usr/local/lib/python3.7/dist-packages/keras/utils/generic_utils.py:497: CustomMaskWarning: Custom mask layers require a config and must override get_config. When loading, the custom mask layer must be passed to the custom_objects argument.\n",
            "  category=CustomMaskWarning)\n"
          ]
        }
      ]
    },
    {
      "cell_type": "code",
      "metadata": {
        "colab": {
          "base_uri": "https://localhost:8080/"
        },
        "id": "Ule4m7E1PxMG",
        "outputId": "20d7b410-24e5-4fc2-a420-7fd4fbdd6d9a"
      },
      "source": [
        "model_loaded = tf.keras.models.load_model(\"demeter\")\n",
        "model_loaded.summary()\n",
        "nlu(\"Cual es la mejor variedad para sembrar en Tolima\",tokenizer, model_loaded, intent_names, slot_names)"
      ],
      "execution_count": 19,
      "outputs": [
        {
          "output_type": "stream",
          "name": "stdout",
          "text": [
            "Model: \"model\"\n",
            "__________________________________________________________________________________________________\n",
            "Layer (type)                    Output Shape         Param #     Connected to                     \n",
            "==================================================================================================\n",
            "input_ids (InputLayer)          [(None, None)]       0                                            \n",
            "__________________________________________________________________________________________________\n",
            "bert (TFBertMainLayer)          TFBaseModelOutputWit 177853440   input_ids[0][0]                  \n",
            "__________________________________________________________________________________________________\n",
            "slots_dropout (Dropout)         (None, None, 768)    0           bert[0][0]                       \n",
            "__________________________________________________________________________________________________\n",
            "intent_dropout (Dropout)        (None, 768)          0           bert[0][1]                       \n",
            "__________________________________________________________________________________________________\n",
            "slots_classifier (Dense)        (None, None, 13)     9997        slots_dropout[0][0]              \n",
            "__________________________________________________________________________________________________\n",
            "intent_classifier (Dense)       (None, 6)            4614        intent_dropout[0][0]             \n",
            "==================================================================================================\n",
            "Total params: 177,868,051\n",
            "Trainable params: 177,868,051\n",
            "Non-trainable params: 0\n",
            "__________________________________________________________________________________________________\n"
          ]
        },
        {
          "output_type": "execute_result",
          "data": {
            "text/plain": [
              "{'intent': 'cultivars', 'slots': {'locality': 'Tolima'}}"
            ]
          },
          "metadata": {},
          "execution_count": 19
        }
      ]
    }
  ]
}